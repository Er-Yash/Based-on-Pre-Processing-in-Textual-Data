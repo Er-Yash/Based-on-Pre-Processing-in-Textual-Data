{
  "nbformat": 4,
  "nbformat_minor": 0,
  "metadata": {
    "colab": {
      "provenance": [],
      "authorship_tag": "ABX9TyMPs+IcRQ2Towv1DIHILgL0",
      "include_colab_link": true
    },
    "kernelspec": {
      "name": "python3",
      "display_name": "Python 3"
    },
    "language_info": {
      "name": "python"
    }
  },
  "cells": [
    {
      "cell_type": "markdown",
      "metadata": {
        "id": "view-in-github",
        "colab_type": "text"
      },
      "source": [
        "<a href=\"https://colab.research.google.com/github/Er-Yash/Based-on-Pre-Processing-in-Textual-Data/blob/main/Based_on_Pre_Processing_in_Textual_Data.ipynb\" target=\"_parent\"><img src=\"https://colab.research.google.com/assets/colab-badge.svg\" alt=\"Open In Colab\"/></a>"
      ]
    },
    {
      "cell_type": "markdown",
      "source": [
        "Load a corpus (of .txt files) of your choice containing at least 10 text files using:\n",
        "1. File method\n"
      ],
      "metadata": {
        "id": "r4Xar3QZgoT8"
      }
    },
    {
      "cell_type": "code",
      "execution_count": null,
      "metadata": {
        "colab": {
          "base_uri": "https://localhost:8080/"
        },
        "id": "0RiIthvfgcDj",
        "outputId": "fdc9b067-d250-4d21-8d87-56e72a4c54aa"
      },
      "outputs": [
        {
          "output_type": "stream",
          "name": "stdout",
          "text": [
            "['8 Biggest Graphic Design Trends For 2020 & Beyond [Infographic]\\nAs you have probably noticed, the past few years in design have been dominated by bold colors, mind-bending gradients, and futuristic compositions. \\n\\nBut in 2020, the graphic design world is going to feel a lot more reserved, harmonious, and natural. \\n\\nWell, except for the illustrations, those are going to get a lot more abstract this year.\\n\\nThis shift is likely a reaction to the overuse of some of the previous graphic design trends. \\n\\nDesign styles that were very unique just a few years ago have become just another common tactic used by massive corporations. \\n\\nSo to stay ahead of the curve, be sure to check out the 8 Graphic Design Trends for 2020 and beyond below! ', 'Sorry I missed you Raymond, I was just out in Dahlgren last month...\\nI\\'m the Virtual Reality market manager for Silicon Graphics, so perhaps I\\ncan help a little.\\nIn article <1993Mar17.185725.13487@relay.nswc.navy.mil>,\\nrchui@nswc-wo.nswc.navy.mil (Raymond Chui) writes:\\n|> Hello, the real reality. Our agency started to express interest in\\n|> virtual reality(VR).  So far, we do not know much about VR.  All we\\n|> know about are the Hollywood movies \"The Terminater 2\" and \"Lawnmover\\n|> Man\".  We also know something about VR from ABC news magazine and\\n|> Computer Graphics World magazine.\\nUnfortunately, while SGI systems were used to create the special effects\\nfor both Terminator 2 and Lawnmower Man, those are film-quality computer\\ngraphics, rendered in software and written to film a frame at a time.  Each\\nframe of computer animation for those films took hours to render on\\nhigh-end parallel processing computer systems. Thus, that level of graphics\\nwould be difficult, if not impossible, to acheive in real time (30 frames\\nper second).\\n|> We certainly want to know more about VR.  Who are the leading\\n|> companies,\\n|> agencies, universities?  What machines support VR (i.e. SGI, Sun4,\\n|> HP-9000, BIM-6000, etc.)?\\nIt depends upon how serious you are and how advanced your application is.\\nTrue immersive visualization (VR), requires the rendering of complex visual\\ndatabases at anywhere from 20 to 60 newly rendered frames per second.  This\\nis a similar requirement to that of traditional flight simulators for pilot\\ntraining. If the frame rate is too low, the user notices the stepping of\\nthe frames as they move their head rapidly around the scene, so the motion\\nof the graphics is not smooth and contiguous.  Thus the graphics system\\nmust be powerful enough to sustain high frame rates while rendering complex\\ndata representations.\\nAdditionally, the frame rate must be constant.  If the system renders 15\\nframes per second at one point, then 60 frames per second the next (perhaps\\ndue to the scene in the new viewing direction being simpler than what was\\nvisible before), the user can get heavily distracted by the medium (the\\ngraphics computer) rather than focusing on the data. To maintain a constant\\nframe rate, the system must be able to run in real-time.  UNIX in general\\ndoes not support real-time operation, but Silicon Graphics has modified the\\nUNIX kernel for its multi-processor systems to be able to support real-time\\noperation, bypassing the usual UNIX process priority-management schemes. \\nUniprocessor systems running UNIX cannot fundamentally support real-time\\noperation (not Sun SPARC10, not HP 700 Series systems, not IBM RS-6000, not\\neven SGI\\'s uniprocessor systems like Indigo or Crimson). Only our\\nmultiprocessor Onyx and Challenge systems support real-time operation due\\nto their Symmetric Multi-Processing (SMP) shared-memory architecture.\\nFrom a graphics perspective, rendering complex virtual environments\\nrequires advanced rendering techniques like texture mapping and real-time\\nmulti-sample anti-aliasing.  Of all of the general purpose graphics systems\\non the market today, only Crimson RealityEngine and Onyx RealityEngine2\\nsystems fully support these capabilities. The anti-aliasing is particularly\\nimportant, as the crawling jagged edges of aliased polygons is an\\nunfortunate distraction when immersed in a virtual environment.\\n|>  What kind of graphics languages are used with VR\\n|> (GL, opengl, Phigs, PEX, GKS, etc.)?\\nYou can use the general purpose graphics libraries listed above to develop\\nVR applications, but that is starting at a pretty low level. There are\\noff-the- shelf software packages available to get you going much faster,\\nbeing targeted directly at the VR application developer. Some of the most\\npopular are (in no particular order):\\n\\t- Division Inc.\\t\\t    (Redwood City, CA) - dVS\\n\\t- Sens8 Inc.\\t\\t    (Sausalito, CA)    - WorldToolKit\\n\\t- Naval Postgraduate School (Monterey, CA)     - NPSnet (FREE!)\\n\\t- Gemini Technology Corp    (Irvine, CA)       - GVS Simation Series\\n\\t- Paradigm Simulation Inc.  (Dallas, TX)       - VisionWorks, AudioWorks\\n\\t- Silicon Graphics Inc.\\t    (Mountain View,CA) - IRIS Performer\\nThere are some others, but not off the top of my head...\\n|> What companies are making\\n|> interface devices for VR (goggles or BOOM (Binocular Omni-Orientational\\n|> Monitor), hamlets, gloves, arms, etc.)?\\nThere are too many to list here, but here is a smattering:\\n\\t- Fake Space Labs\\t    (Menlo Park,CA)    - BOOM\\n\\t- Virtual Technologies Inc. (Stanford, CA)     - CyberGlove\\n\\t- Digital Image Design\\t    (New York, NY)     - The Cricket (3D input)\\n\\t- Kaiser Electro Optics\\t    (Carlsbad, CA)     - Sim Eye Helmet Displays\\n\\t- Virtual Research\\t    (Sunnyvale, CA)    - Flight Helmet display\\n\\t- Virtual Reality Inc.\\t    (Pleasantville,NY) - Head Mtd Displays, s/w\\n\\t- Software Systems\\t    (San Jose, CA)     - 3D Modeling software\\n\\t- etc., etc., etc.\\n|> What are those company\\'s\\n|> addresses and phone numbers?  Where we can get a list name of VR\\n|> experts\\n|> and their phone numbers and Email addresses?\\nRead some of the VR books on the market:\\n\\t- Virtual Reality - Ken Pimental and Ken Texiera (sp?)\\n\\t- Virtual Mirage\\n\\t- Artificial Reality - Myron Kreuger\\n\\t- etc.\\nOr check out the newsgroup sci.virtual_worlds\\nFeel free to contact me for more info.\\nRegards,\\nJosh\\n**\\tJoshua Mogal\\t\\t     **\\tProduct Manager\\t\\t\\t**\\n**\\tAdvanced Graphics Division   **\\t  Advanced Graphics Systems\\t**\\n**\\tSilicon Graphics Inc.\\t     **\\tMarket Manager\\t\\t\\t**\\n**\\t2011 North Shoreline Blvd.   **\\t  Virtual Reality\\t\\t**\\n**\\tMountain View, CA 94039-7311 **\\t  Interactive Entertainment\\t**\\n**\\tTel:\\t(415) 390-1460\\t\\t\\t\\t\\t\\t**\\n**\\tFax:\\t(415) 964-8671\\t\\t\\t\\t\\t\\t**\\n**\\tE-mail:\\tmogal@sgi.com\\t\\t\\t\\t\\t\\t**\\n', 'In article <jonas-y.734802983@gouraud> jonas-y@isy.liu.se (Jonas Yngvesson)  \\nwrites:\\n> Intersection Between a Line and a Polygon (UNDECIDABLE??),\\n> \\tby Dave Baraff, Tom Duff\\n> \\tFrom: deb@charisma.graphics.cornell.edu\\n> In recent years, many geometric problems have been successfully modeled in a\\n> new language called PostScript.  (See \"PostScript Language\", by Adobe Systems\\n> Incorporated, ISBN # 0-201-10179-3, co. 1985).\\n> So, given a line L and a polygon P, we can write a PostScript program that\\n> draws the line L and the polygon P, and then \"outputs\" the answer.  By\\n> \"output\", we mean the program executes a command called \"showpage\", which\\n> actually prints a page of paper containing the line and the polygon.  A quick\\n> examination of the paper provides an answer to the reduced problem Q, and  \\nthus\\n> the original problem.\\nCuriously, in modern PostScript, the point in a polygon problem can\\nbe solved even more easily.  To wit:\\n%%Title: Point in Polygon\\n%%Creator: Allen B (ab@cc.purdue.edu)\\n%%For: the amusement of comp.graphics regulars\\n%%LanguageLevel: 2\\n%%DocumentNeededResource: humor sense thereof\\n%%EndComments\\n% This program will test whether a point is inside a given polygon.\\n% Currently it uses the even-odd rule, but that can be changed by\\n% replacing ineofill with infill.  These are Level 2 operators,\\n% so if you\\'ve only got Level 1 you\\'re out of luck.\\n% The result will be printed on the output stream.\\n% Caution: only accurate to device pixels!\\n% Put a huge scale in first if you aren\\'t sure.\\n% Point to test\\n% Vertices of polygon in counter-clockwise order\\ndup 0 get aload pop moveto dup length 1 dup 3 1 roll\\nsub getinterval { aload pop lineto } forall closepath\\nineofill { (Yes!) } { (No!) } ifelse =\\n', \"Learn Adobe Illustrator and Get Started With Graphic Design\\nFrom print and video ads to presentations and pitch decks, graphic designers have their hands in a huge array of projects in an organization. While some companies keep a design team in-house, many bring on contractors to handle their design needs. Either way, graphic designers enjoy flexible, lucrative careers that come with constant creative challenges. Sound intriguing? The 2020 Adobe Illustrator CC Master Class Bundle can teach you the tools you need to know to get started, and it's on sale for under $40 today.\\n\\nThis six-course, 34-hour bundle takes you on a comprehensive journey into one of the world's leading design platforms, Adobe Illustrator. You'll get a crash course in the basics, understanding the nuts and bolts behind Illustrator's vector editing abilities, while learning how to use the core tools.\\n\\nFrom there, you'll learn how to apply your skills to build user interfaces on web pages and complete real-world projects like flyers and static ads. With that hands-on training, you'll be able to create actual projects that you can include in a portfolio and send to recruiters.\\n\\nFinally, in the advanced course, you'll learn how to streamline your productivity and workflow and complete complex projects from scratch.\\n\\nReady to design your way to a brand new career? Normally $284, The 2020 Adobe Illustrator CC Master Class Bundle is on sale now for just $39.99.\", \"In article <16APR199309101156@trentu.ca>, ayounes@trentu.ca (Amro Younes, Trent University, C.C. #314, Peterborough, ON, Canada K9J 7B8. (705) 749-0391) writes:\\n|> In article <o4fzrApDBh107h@eosvcr.wimsey.bc.ca>, aew@eosvcr.wimsey.bc.ca writes...\\n|> >We have heard many bad things about the ATI Ultra Plus card (mainly having\\n|> >to do with its buggy Windows drivers).\\n|> >I would like to replace by ATI Graphics Ultra with a true-colour accelerated\\n|> >card. I was about to buy the ATI Ultra Plus (EISA) but it has had so much\\n|> >bad press that I am reconsidering.\\n|> I have the ATI GRAPHICS ULTRA PRO EISA version.  I must admit it has \\n|> received bad press but that was due to the faulty drivers it had.  Now the \\n|> drivers that are available for the EISA version are the same ones as the ISA \\n|> and Local Bus (v1.5 Build 59).  Some people complained about problems they \\n|> had with the Build 59 drivers, fortunately I couldn't duplicate them on my \\n|> machine, but I did have one problem with Harvard Graphics that nobody else \\n|> seemed to have.\\n|> >I would like an accelerated card\\n|> >             a card that does 24bit true colour at 800x600 at least\\n|> >             a card that does 1024x758 at 256 colours (or more)\\n|> >             a card that has fast polygon fills\\n|> >             a card that has fast bit blits\\n|> >             a card that has a robust windows driver\\n|> >             a card that has high speed non-interlaced refresh\\n|> >Any suggestions?\\n|> I wouldn't recommed the ATI for 24bit colour at 800x600, at this resolution \\n|> the display will be interlaced.  But at 16bit it isn't, I thought it was my \\nThis doesn't sound right to me.  I have an ATI Ultra Pro VLB card with 2MB\\nVRAM, and I'm pretty sure it is not interlaced at 800x600 in 24bit mode.  I'm\\nat work right now so I can't check it out, but I know that when I set it up\\nthe utility let me specify non-interlaced for this mode.  And I haven't \\nnoticed it the couple times that I have put the card in this mode in windows,\\nbut I could be wrong because I very rarely use this mode.  For most of my\\napplications at home 1024x768x16bpp is what I use.\\nCheers,\\nPhil\\n|> monitor but it isn't, its the card (that is the only time you will get \\n|> interlaced).  If I come up with cards more suited for your needs I'll let \\n|> you know.\\n|> Amro\\nPhilip Carmack\\t\\t\\t\\t| pcarmack@kpc.com\\t(408)987-3336\\nKubota Pacific Computers, Inc.\\t\\t|\\n\", 'In article 8HC@mentor.cc.purdue.edu, ab@nova.cc.purdue.edu (Allen B) writes:\\n>In article <1993Apr10.160929.696@galki.toppoint.de> ulrich@galki.toppoint.de  \\n>writes:\\n>> According to the TIFF 5.0 Specification, the TIFF \"version number\"\\n>> (bytes 2-3) 42 has been chosen for its \"deep philosophical \\n>> significance\".\\n>> Last week, I read the Hitchhikers Guide To The Galaxy,\\n>> Is this actually how they picked the number 42?\\n>I\\'m sure it is, and I am not amused.  Every time I read that part of the\\n>TIFF spec, it infuriates me- and I\\'m none too happy about the\\n>complexity of the spec anyway- because I think their \"arbitrary but\\n>carefully chosen number\" is neither.  Additionally, I find their\\n>choice of 4 bytes to begin a file with meaningless of themselves- why\\n>not just use the letters \"TIFF\"?\\n>(And no, I don\\'t think they should have bothered to support both word\\n>orders either- and I\\'ve found that many TIFF readers actually\\n>don\\'t.)\\n>ab\\nWhy so up tight?  FOr that matter, TIFF6 is out now, so why not gripe\\nabout its problems?  Also, if its so important to you, volunteer to\\nhelp define or critique the spec.\\nFinally, a little numerology:  42 is 24 backwards, and TIFF is a 24 bit\\nimage format...\\nChris\\nChristopher P. Tully\\t\\t\\t\\tcptully@med.unc.edu\\nUniv. of North Carolina - Chapel Hill\\nChapel Hill, NC 27599\\nI get paid for my opinions, but that doesn\\'t mean that UNC or anybody\\n                     else agrees with them.\\n', 'Procreate vs. Photoshop: Should You Make the Switch?\\nDesigners are in love with Procreate. The app built for creative professionals makes designing on an iPad easier and more efficient in a completely new way. But can a $9.99 app be a realistic Photoshop competitor?\\n\\nFor some, the answer is a definite yes.\\n\\nHere are five reasons Procreate could become your go-to design app (and five reasons why it might not). Plus, an introduction to what Procreate is, and why it might be the perfect app for you.\\n\\nWhat is Procreate?\\nIf you aren’t familiar with Procreate, it’s an iPad app that’s made for professional creatives. You can sketch, paint and edit with a robust collection of tools. It responds to touch and pressure with the Apple Pencil for detailed work.\\n\\nThe tool includes a sleek interface and is a game changer when it comes to online drawing apps. It includes 64-bit color, customizable brushes, incredible canvas resolutions, a nice layer system, and cinema-style effects.\\n\\nPlus, everything includes the ease of use you’d expect from an Apple product (and you can save images from device to device). While this tool is fun for a lot of creatives, it’s most practical applications are for sketching, illustrations, some light editing and for drawing typography. But can Procreate replace other software and tools? (Maybe.)\\n1. Quick Image Tweaking\\nant to touch up an image or stylize a piece of artwork? Procreate has got you covered. The image tweaking – we won’t call this an editing suite – includes blurs, sharpening, curve manipulation, color balance and more. Think of these tools as giving you the ability to design a cool filter of your own (Instagram style) and apply it to images.\\n\\nThen you can make it super fun with a time-lapse view of the changes that you can share. This small feature is great for designers that are experimenting with new techniques and want to get or give feedback.\\n\\nFor editing on a tablet, this is probably one of the best, and most professional options available.\\nWhile tweaking images is fun, Procreate is really designed for illustrators. The brush library has more than 130 brushes that create almost any art technique you can images. There’s also a dual-texture system so you can mix and match brush types.\\n\\nEvery brush is customizable as well. (You’d be hard-pressed to have this many tools in an actual studio.) And we have a collection of 30+ of the best Procreate brushes to get you started!\\n\\nWhat sets Procreate apart in terms of illustration is that this is a professional set of tools. You can create a huge canvas to work on and export the drawings in high resolution still or video frames.\\n\\nIt’s hard to imagine how cool the illustration tools are until you start playing with them. Add the Apple Pencil to the mix and it’s just like the real thing… albeit with the ability to tap “undo”! The drawing experience is as close to real as you can get in the', 'Dominic Lai (cs_cylai@cs.ust.hk) wrote:\\n: Simon Crowe (scrowe@hemel.bull.co.uk) wrote:\\n: 8~> I require BGI drivers for Super VGA Displays and Super XVGA Displays. Does \\n: 8~> anyone know where I could obtain the relevant drivers ? (FTP sites ??)\\n: \\tI would like to know too!\\n: Regards,\\n: Dominic\\ngarbo.uwasa.fi (or one of its many mirrors) has a file\\ncalled \"svgabg40\" in the programming subdirectory.\\nThese are svga bgi drivers for a variety of cards.\\n[from the README]:\\n\"Card types supported: (SuperVGA drivers)\\n  Ahead, ATI, Chips & Tech, Everex, Genoa, Paradise, Oak, Trident (both 8800 \\n  and 8900, 9000), Tseng (both 3000 and 4000 chipsets) and Video7.\\n  These drivers will also work on video cards with VESA capability.\\n  The tweaked drivers will work on any register-compatible VGA card.\"\\nenjoy,\\nClark Verbrugge\\nclump@cs.mcgill.ca\\n', 'How to Design a Professional PowerPoint Presentation\\nOur series of tips on presentation design outlined some generic rules and ideas that you can live by to create better, more professional presentations. Today we want to follow that up by taking you through the actual process of designing a presentation from start to finish.\\n\\nWe’ll break down every step of the design process, from choosing colors and images to using whitespace properly. After reading through this you should be all set to design your own beautiful presentation slides that will put your coworkers to shame.\\n\\nUsing a pre-built PowerPoint template can be a good starting point for many people (we collected some of the best PowerPoint templates for you!). But if you’re wanting to design your own from start-to-finish, you’re in the right place!\\n\\nHow Does Unlimited PowerPoint Templates Sound?\\nDownload thousands of PowerPoint templates, and many other design elements, with a monthly Envato Elements membership. It starts at $16 per month, and gives you unlimited access to a growing library of over 2,000,000 presentation templates, fonts, photos, graphics, and more.', 'Does any one know of a decent quality library of routines for\\nperforming 3D graphics modelling on the PC?\\nIdeally the routines would be embeded in our application program.\\nRequirements (wish list):\\n- flat surface modelling (simple phong shading optional)\\n- ability to plot hidden-line drawings\\n- Texture mapping -- both procedural and bit map\\n- modeling light sources (local, distant, and spot lights)\\n- Ray-tracing\\n- Radiosity (optional)\\nAny comments would be appreciated.\\nJohn Chinnick -- jchinnic@mach1.wlu.ca\\nphone : (519) 888-9666\\nJohn Chinnick -- jchinnic@mach1.wlu.ca\\n', \"Has anyone successfully converted Interleaf graphics to CGM, or even heard\\nof it being done????\\nWe'd love to hear about it.\\n-Mike McConnell\\nemm@cray.com\\n\"]\n"
          ]
        }
      ],
      "source": [
        "import os\n",
        "filenames=os.listdir('/content/data_files')\n",
        "contents=[]\n",
        "for i in range(len(filenames)):\n",
        "  f=open('/content/data_files/'+filenames[i],'r')\n",
        "  text=f.read()\n",
        "  contents.append(text)\n",
        "  f.close()\n",
        "print(contents)"
      ]
    },
    {
      "cell_type": "markdown",
      "source": [
        "Load a corpus (of .txt files) of your choice containing at least 10 text files using:\n",
        "\n",
        "2. PlaintextCorpusReader"
      ],
      "metadata": {
        "id": "rSZBcqohitAm"
      }
    },
    {
      "cell_type": "code",
      "source": [
        "from nltk.corpus import PlaintextCorpusReader\n",
        "dataset=PlaintextCorpusReader('/content/data_files/','.*')\n",
        "print(dataset)"
      ],
      "metadata": {
        "id": "rzG-9wNOghD0",
        "colab": {
          "base_uri": "https://localhost:8080/"
        },
        "outputId": "6df6776d-8d4a-469a-c2b8-f0cf3f1f9c2b"
      },
      "execution_count": null,
      "outputs": [
        {
          "output_type": "stream",
          "name": "stdout",
          "text": [
            "<PlaintextCorpusReader in '/content/data_files'>\n"
          ]
        }
      ]
    },
    {
      "cell_type": "markdown",
      "source": [
        "# **Pre-Processing Step 1: Normalization**"
      ],
      "metadata": {
        "id": "52wThMIBrQP0"
      }
    },
    {
      "cell_type": "code",
      "source": [
        "lower_corpus = []\n",
        "alpha_corpus = []\n",
        "\n",
        "# Assuming 'contents' is a list of strings\n",
        "for i in range(len(contents)):\n",
        "    # Convert to lowercase\n",
        "    lower_corpus.append(contents[i].lower())\n",
        "# print(lower_corpus)\n",
        "\n",
        "    # Keep only alphabetic characters and spaces\n",
        "    alpha_corpus.append(' '.join([word for word in lower_corpus[i].split() if word.isalpha()]))\n",
        "print(lower_corpus)\n",
        "print(alpha_corpus)\n"
      ],
      "metadata": {
        "id": "WcHv3tOmghHu",
        "colab": {
          "base_uri": "https://localhost:8080/"
        },
        "outputId": "1226b300-cb99-4f3e-ab1d-eec01a49b9be"
      },
      "execution_count": null,
      "outputs": [
        {
          "output_type": "stream",
          "name": "stdout",
          "text": [
            "['8 biggest graphic design trends for 2020 & beyond [infographic]\\nas you have probably noticed, the past few years in design have been dominated by bold colors, mind-bending gradients, and futuristic compositions. \\n\\nbut in 2020, the graphic design world is going to feel a lot more reserved, harmonious, and natural. \\n\\nwell, except for the illustrations, those are going to get a lot more abstract this year.\\n\\nthis shift is likely a reaction to the overuse of some of the previous graphic design trends. \\n\\ndesign styles that were very unique just a few years ago have become just another common tactic used by massive corporations. \\n\\nso to stay ahead of the curve, be sure to check out the 8 graphic design trends for 2020 and beyond below! ', 'sorry i missed you raymond, i was just out in dahlgren last month...\\ni\\'m the virtual reality market manager for silicon graphics, so perhaps i\\ncan help a little.\\nin article <1993mar17.185725.13487@relay.nswc.navy.mil>,\\nrchui@nswc-wo.nswc.navy.mil (raymond chui) writes:\\n|> hello, the real reality. our agency started to express interest in\\n|> virtual reality(vr).  so far, we do not know much about vr.  all we\\n|> know about are the hollywood movies \"the terminater 2\" and \"lawnmover\\n|> man\".  we also know something about vr from abc news magazine and\\n|> computer graphics world magazine.\\nunfortunately, while sgi systems were used to create the special effects\\nfor both terminator 2 and lawnmower man, those are film-quality computer\\ngraphics, rendered in software and written to film a frame at a time.  each\\nframe of computer animation for those films took hours to render on\\nhigh-end parallel processing computer systems. thus, that level of graphics\\nwould be difficult, if not impossible, to acheive in real time (30 frames\\nper second).\\n|> we certainly want to know more about vr.  who are the leading\\n|> companies,\\n|> agencies, universities?  what machines support vr (i.e. sgi, sun4,\\n|> hp-9000, bim-6000, etc.)?\\nit depends upon how serious you are and how advanced your application is.\\ntrue immersive visualization (vr), requires the rendering of complex visual\\ndatabases at anywhere from 20 to 60 newly rendered frames per second.  this\\nis a similar requirement to that of traditional flight simulators for pilot\\ntraining. if the frame rate is too low, the user notices the stepping of\\nthe frames as they move their head rapidly around the scene, so the motion\\nof the graphics is not smooth and contiguous.  thus the graphics system\\nmust be powerful enough to sustain high frame rates while rendering complex\\ndata representations.\\nadditionally, the frame rate must be constant.  if the system renders 15\\nframes per second at one point, then 60 frames per second the next (perhaps\\ndue to the scene in the new viewing direction being simpler than what was\\nvisible before), the user can get heavily distracted by the medium (the\\ngraphics computer) rather than focusing on the data. to maintain a constant\\nframe rate, the system must be able to run in real-time.  unix in general\\ndoes not support real-time operation, but silicon graphics has modified the\\nunix kernel for its multi-processor systems to be able to support real-time\\noperation, bypassing the usual unix process priority-management schemes. \\nuniprocessor systems running unix cannot fundamentally support real-time\\noperation (not sun sparc10, not hp 700 series systems, not ibm rs-6000, not\\neven sgi\\'s uniprocessor systems like indigo or crimson). only our\\nmultiprocessor onyx and challenge systems support real-time operation due\\nto their symmetric multi-processing (smp) shared-memory architecture.\\nfrom a graphics perspective, rendering complex virtual environments\\nrequires advanced rendering techniques like texture mapping and real-time\\nmulti-sample anti-aliasing.  of all of the general purpose graphics systems\\non the market today, only crimson realityengine and onyx realityengine2\\nsystems fully support these capabilities. the anti-aliasing is particularly\\nimportant, as the crawling jagged edges of aliased polygons is an\\nunfortunate distraction when immersed in a virtual environment.\\n|>  what kind of graphics languages are used with vr\\n|> (gl, opengl, phigs, pex, gks, etc.)?\\nyou can use the general purpose graphics libraries listed above to develop\\nvr applications, but that is starting at a pretty low level. there are\\noff-the- shelf software packages available to get you going much faster,\\nbeing targeted directly at the vr application developer. some of the most\\npopular are (in no particular order):\\n\\t- division inc.\\t\\t    (redwood city, ca) - dvs\\n\\t- sens8 inc.\\t\\t    (sausalito, ca)    - worldtoolkit\\n\\t- naval postgraduate school (monterey, ca)     - npsnet (free!)\\n\\t- gemini technology corp    (irvine, ca)       - gvs simation series\\n\\t- paradigm simulation inc.  (dallas, tx)       - visionworks, audioworks\\n\\t- silicon graphics inc.\\t    (mountain view,ca) - iris performer\\nthere are some others, but not off the top of my head...\\n|> what companies are making\\n|> interface devices for vr (goggles or boom (binocular omni-orientational\\n|> monitor), hamlets, gloves, arms, etc.)?\\nthere are too many to list here, but here is a smattering:\\n\\t- fake space labs\\t    (menlo park,ca)    - boom\\n\\t- virtual technologies inc. (stanford, ca)     - cyberglove\\n\\t- digital image design\\t    (new york, ny)     - the cricket (3d input)\\n\\t- kaiser electro optics\\t    (carlsbad, ca)     - sim eye helmet displays\\n\\t- virtual research\\t    (sunnyvale, ca)    - flight helmet display\\n\\t- virtual reality inc.\\t    (pleasantville,ny) - head mtd displays, s/w\\n\\t- software systems\\t    (san jose, ca)     - 3d modeling software\\n\\t- etc., etc., etc.\\n|> what are those company\\'s\\n|> addresses and phone numbers?  where we can get a list name of vr\\n|> experts\\n|> and their phone numbers and email addresses?\\nread some of the vr books on the market:\\n\\t- virtual reality - ken pimental and ken texiera (sp?)\\n\\t- virtual mirage\\n\\t- artificial reality - myron kreuger\\n\\t- etc.\\nor check out the newsgroup sci.virtual_worlds\\nfeel free to contact me for more info.\\nregards,\\njosh\\n**\\tjoshua mogal\\t\\t     **\\tproduct manager\\t\\t\\t**\\n**\\tadvanced graphics division   **\\t  advanced graphics systems\\t**\\n**\\tsilicon graphics inc.\\t     **\\tmarket manager\\t\\t\\t**\\n**\\t2011 north shoreline blvd.   **\\t  virtual reality\\t\\t**\\n**\\tmountain view, ca 94039-7311 **\\t  interactive entertainment\\t**\\n**\\ttel:\\t(415) 390-1460\\t\\t\\t\\t\\t\\t**\\n**\\tfax:\\t(415) 964-8671\\t\\t\\t\\t\\t\\t**\\n**\\te-mail:\\tmogal@sgi.com\\t\\t\\t\\t\\t\\t**\\n', 'in article <jonas-y.734802983@gouraud> jonas-y@isy.liu.se (jonas yngvesson)  \\nwrites:\\n> intersection between a line and a polygon (undecidable??),\\n> \\tby dave baraff, tom duff\\n> \\tfrom: deb@charisma.graphics.cornell.edu\\n> in recent years, many geometric problems have been successfully modeled in a\\n> new language called postscript.  (see \"postscript language\", by adobe systems\\n> incorporated, isbn # 0-201-10179-3, co. 1985).\\n> so, given a line l and a polygon p, we can write a postscript program that\\n> draws the line l and the polygon p, and then \"outputs\" the answer.  by\\n> \"output\", we mean the program executes a command called \"showpage\", which\\n> actually prints a page of paper containing the line and the polygon.  a quick\\n> examination of the paper provides an answer to the reduced problem q, and  \\nthus\\n> the original problem.\\ncuriously, in modern postscript, the point in a polygon problem can\\nbe solved even more easily.  to wit:\\n%%title: point in polygon\\n%%creator: allen b (ab@cc.purdue.edu)\\n%%for: the amusement of comp.graphics regulars\\n%%languagelevel: 2\\n%%documentneededresource: humor sense thereof\\n%%endcomments\\n% this program will test whether a point is inside a given polygon.\\n% currently it uses the even-odd rule, but that can be changed by\\n% replacing ineofill with infill.  these are level 2 operators,\\n% so if you\\'ve only got level 1 you\\'re out of luck.\\n% the result will be printed on the output stream.\\n% caution: only accurate to device pixels!\\n% put a huge scale in first if you aren\\'t sure.\\n% point to test\\n% vertices of polygon in counter-clockwise order\\ndup 0 get aload pop moveto dup length 1 dup 3 1 roll\\nsub getinterval { aload pop lineto } forall closepath\\nineofill { (yes!) } { (no!) } ifelse =\\n', \"learn adobe illustrator and get started with graphic design\\nfrom print and video ads to presentations and pitch decks, graphic designers have their hands in a huge array of projects in an organization. while some companies keep a design team in-house, many bring on contractors to handle their design needs. either way, graphic designers enjoy flexible, lucrative careers that come with constant creative challenges. sound intriguing? the 2020 adobe illustrator cc master class bundle can teach you the tools you need to know to get started, and it's on sale for under $40 today.\\n\\nthis six-course, 34-hour bundle takes you on a comprehensive journey into one of the world's leading design platforms, adobe illustrator. you'll get a crash course in the basics, understanding the nuts and bolts behind illustrator's vector editing abilities, while learning how to use the core tools.\\n\\nfrom there, you'll learn how to apply your skills to build user interfaces on web pages and complete real-world projects like flyers and static ads. with that hands-on training, you'll be able to create actual projects that you can include in a portfolio and send to recruiters.\\n\\nfinally, in the advanced course, you'll learn how to streamline your productivity and workflow and complete complex projects from scratch.\\n\\nready to design your way to a brand new career? normally $284, the 2020 adobe illustrator cc master class bundle is on sale now for just $39.99.\", \"in article <16apr199309101156@trentu.ca>, ayounes@trentu.ca (amro younes, trent university, c.c. #314, peterborough, on, canada k9j 7b8. (705) 749-0391) writes:\\n|> in article <o4fzrapdbh107h@eosvcr.wimsey.bc.ca>, aew@eosvcr.wimsey.bc.ca writes...\\n|> >we have heard many bad things about the ati ultra plus card (mainly having\\n|> >to do with its buggy windows drivers).\\n|> >i would like to replace by ati graphics ultra with a true-colour accelerated\\n|> >card. i was about to buy the ati ultra plus (eisa) but it has had so much\\n|> >bad press that i am reconsidering.\\n|> i have the ati graphics ultra pro eisa version.  i must admit it has \\n|> received bad press but that was due to the faulty drivers it had.  now the \\n|> drivers that are available for the eisa version are the same ones as the isa \\n|> and local bus (v1.5 build 59).  some people complained about problems they \\n|> had with the build 59 drivers, fortunately i couldn't duplicate them on my \\n|> machine, but i did have one problem with harvard graphics that nobody else \\n|> seemed to have.\\n|> >i would like an accelerated card\\n|> >             a card that does 24bit true colour at 800x600 at least\\n|> >             a card that does 1024x758 at 256 colours (or more)\\n|> >             a card that has fast polygon fills\\n|> >             a card that has fast bit blits\\n|> >             a card that has a robust windows driver\\n|> >             a card that has high speed non-interlaced refresh\\n|> >any suggestions?\\n|> i wouldn't recommed the ati for 24bit colour at 800x600, at this resolution \\n|> the display will be interlaced.  but at 16bit it isn't, i thought it was my \\nthis doesn't sound right to me.  i have an ati ultra pro vlb card with 2mb\\nvram, and i'm pretty sure it is not interlaced at 800x600 in 24bit mode.  i'm\\nat work right now so i can't check it out, but i know that when i set it up\\nthe utility let me specify non-interlaced for this mode.  and i haven't \\nnoticed it the couple times that i have put the card in this mode in windows,\\nbut i could be wrong because i very rarely use this mode.  for most of my\\napplications at home 1024x768x16bpp is what i use.\\ncheers,\\nphil\\n|> monitor but it isn't, its the card (that is the only time you will get \\n|> interlaced).  if i come up with cards more suited for your needs i'll let \\n|> you know.\\n|> amro\\nphilip carmack\\t\\t\\t\\t| pcarmack@kpc.com\\t(408)987-3336\\nkubota pacific computers, inc.\\t\\t|\\n\", 'in article 8hc@mentor.cc.purdue.edu, ab@nova.cc.purdue.edu (allen b) writes:\\n>in article <1993apr10.160929.696@galki.toppoint.de> ulrich@galki.toppoint.de  \\n>writes:\\n>> according to the tiff 5.0 specification, the tiff \"version number\"\\n>> (bytes 2-3) 42 has been chosen for its \"deep philosophical \\n>> significance\".\\n>> last week, i read the hitchhikers guide to the galaxy,\\n>> is this actually how they picked the number 42?\\n>i\\'m sure it is, and i am not amused.  every time i read that part of the\\n>tiff spec, it infuriates me- and i\\'m none too happy about the\\n>complexity of the spec anyway- because i think their \"arbitrary but\\n>carefully chosen number\" is neither.  additionally, i find their\\n>choice of 4 bytes to begin a file with meaningless of themselves- why\\n>not just use the letters \"tiff\"?\\n>(and no, i don\\'t think they should have bothered to support both word\\n>orders either- and i\\'ve found that many tiff readers actually\\n>don\\'t.)\\n>ab\\nwhy so up tight?  for that matter, tiff6 is out now, so why not gripe\\nabout its problems?  also, if its so important to you, volunteer to\\nhelp define or critique the spec.\\nfinally, a little numerology:  42 is 24 backwards, and tiff is a 24 bit\\nimage format...\\nchris\\nchristopher p. tully\\t\\t\\t\\tcptully@med.unc.edu\\nuniv. of north carolina - chapel hill\\nchapel hill, nc 27599\\ni get paid for my opinions, but that doesn\\'t mean that unc or anybody\\n                     else agrees with them.\\n', 'procreate vs. photoshop: should you make the switch?\\ndesigners are in love with procreate. the app built for creative professionals makes designing on an ipad easier and more efficient in a completely new way. but can a $9.99 app be a realistic photoshop competitor?\\n\\nfor some, the answer is a definite yes.\\n\\nhere are five reasons procreate could become your go-to design app (and five reasons why it might not). plus, an introduction to what procreate is, and why it might be the perfect app for you.\\n\\nwhat is procreate?\\nif you aren’t familiar with procreate, it’s an ipad app that’s made for professional creatives. you can sketch, paint and edit with a robust collection of tools. it responds to touch and pressure with the apple pencil for detailed work.\\n\\nthe tool includes a sleek interface and is a game changer when it comes to online drawing apps. it includes 64-bit color, customizable brushes, incredible canvas resolutions, a nice layer system, and cinema-style effects.\\n\\nplus, everything includes the ease of use you’d expect from an apple product (and you can save images from device to device). while this tool is fun for a lot of creatives, it’s most practical applications are for sketching, illustrations, some light editing and for drawing typography. but can procreate replace other software and tools? (maybe.)\\n1. quick image tweaking\\nant to touch up an image or stylize a piece of artwork? procreate has got you covered. the image tweaking – we won’t call this an editing suite – includes blurs, sharpening, curve manipulation, color balance and more. think of these tools as giving you the ability to design a cool filter of your own (instagram style) and apply it to images.\\n\\nthen you can make it super fun with a time-lapse view of the changes that you can share. this small feature is great for designers that are experimenting with new techniques and want to get or give feedback.\\n\\nfor editing on a tablet, this is probably one of the best, and most professional options available.\\nwhile tweaking images is fun, procreate is really designed for illustrators. the brush library has more than 130 brushes that create almost any art technique you can images. there’s also a dual-texture system so you can mix and match brush types.\\n\\nevery brush is customizable as well. (you’d be hard-pressed to have this many tools in an actual studio.) and we have a collection of 30+ of the best procreate brushes to get you started!\\n\\nwhat sets procreate apart in terms of illustration is that this is a professional set of tools. you can create a huge canvas to work on and export the drawings in high resolution still or video frames.\\n\\nit’s hard to imagine how cool the illustration tools are until you start playing with them. add the apple pencil to the mix and it’s just like the real thing… albeit with the ability to tap “undo”! the drawing experience is as close to real as you can get in the', 'dominic lai (cs_cylai@cs.ust.hk) wrote:\\n: simon crowe (scrowe@hemel.bull.co.uk) wrote:\\n: 8~> i require bgi drivers for super vga displays and super xvga displays. does \\n: 8~> anyone know where i could obtain the relevant drivers ? (ftp sites ??)\\n: \\ti would like to know too!\\n: regards,\\n: dominic\\ngarbo.uwasa.fi (or one of its many mirrors) has a file\\ncalled \"svgabg40\" in the programming subdirectory.\\nthese are svga bgi drivers for a variety of cards.\\n[from the readme]:\\n\"card types supported: (supervga drivers)\\n  ahead, ati, chips & tech, everex, genoa, paradise, oak, trident (both 8800 \\n  and 8900, 9000), tseng (both 3000 and 4000 chipsets) and video7.\\n  these drivers will also work on video cards with vesa capability.\\n  the tweaked drivers will work on any register-compatible vga card.\"\\nenjoy,\\nclark verbrugge\\nclump@cs.mcgill.ca\\n', 'how to design a professional powerpoint presentation\\nour series of tips on presentation design outlined some generic rules and ideas that you can live by to create better, more professional presentations. today we want to follow that up by taking you through the actual process of designing a presentation from start to finish.\\n\\nwe’ll break down every step of the design process, from choosing colors and images to using whitespace properly. after reading through this you should be all set to design your own beautiful presentation slides that will put your coworkers to shame.\\n\\nusing a pre-built powerpoint template can be a good starting point for many people (we collected some of the best powerpoint templates for you!). but if you’re wanting to design your own from start-to-finish, you’re in the right place!\\n\\nhow does unlimited powerpoint templates sound?\\ndownload thousands of powerpoint templates, and many other design elements, with a monthly envato elements membership. it starts at $16 per month, and gives you unlimited access to a growing library of over 2,000,000 presentation templates, fonts, photos, graphics, and more.', 'does any one know of a decent quality library of routines for\\nperforming 3d graphics modelling on the pc?\\nideally the routines would be embeded in our application program.\\nrequirements (wish list):\\n- flat surface modelling (simple phong shading optional)\\n- ability to plot hidden-line drawings\\n- texture mapping -- both procedural and bit map\\n- modeling light sources (local, distant, and spot lights)\\n- ray-tracing\\n- radiosity (optional)\\nany comments would be appreciated.\\njohn chinnick -- jchinnic@mach1.wlu.ca\\nphone : (519) 888-9666\\njohn chinnick -- jchinnic@mach1.wlu.ca\\n', \"has anyone successfully converted interleaf graphics to cgm, or even heard\\nof it being done????\\nwe'd love to hear about it.\\n-mike mcconnell\\nemm@cray.com\\n\"]\n",
            "['biggest graphic design trends for beyond as you have probably the past few years in design have been dominated by bold and futuristic but in the graphic design world is going to feel a lot more and except for the those are going to get a lot more abstract this this shift is likely a reaction to the overuse of some of the previous graphic design design styles that were very unique just a few years ago have become just another common tactic used by massive so to stay ahead of the be sure to check out the graphic design trends for and beyond', 'sorry i missed you i was just out in dahlgren last the virtual reality market manager for silicon so perhaps i can help a in article the real our agency started to express interest in virtual so we do not know much about all we know about are the hollywood movies terminater and we also know something about vr from abc news magazine and computer graphics world while sgi systems were used to create the special effects for both terminator and lawnmower those are computer rendered in software and written to film a frame at a each frame of computer animation for those films took hours to render on parallel processing computer that level of graphics would be if not to acheive in real time frames per we certainly want to know more about who are the leading what machines support vr it depends upon how serious you are and how advanced your application true immersive visualization requires the rendering of complex visual databases at anywhere from to newly rendered frames per this is a similar requirement to that of traditional flight simulators for pilot if the frame rate is too the user notices the stepping of the frames as they move their head rapidly around the so the motion of the graphics is not smooth and thus the graphics system must be powerful enough to sustain high frame rates while rendering complex data the frame rate must be if the system renders frames per second at one then frames per second the next due to the scene in the new viewing direction being simpler than what was visible the user can get heavily distracted by the medium graphics rather than focusing on the to maintain a constant frame the system must be able to run in unix in general does not support but silicon graphics has modified the unix kernel for its systems to be able to support bypassing the usual unix process uniprocessor systems running unix cannot fundamentally support operation sun not hp series not ibm not even uniprocessor systems like indigo or only our multiprocessor onyx and challenge systems support operation due to their symmetric from a graphics rendering complex virtual environments requires advanced rendering techniques like texture mapping and of all of the general purpose graphics systems on the market only crimson realityengine and onyx systems fully support these the is particularly as the crawling jagged edges of aliased polygons is an unfortunate distraction when immersed in a virtual what kind of graphics languages are used with vr you can use the general purpose graphics libraries listed above to develop vr but that is starting at a pretty low there are shelf software packages available to get you going much being targeted directly at the vr application some of the most popular are no particular division dvs worldtoolkit naval postgraduate school npsnet gemini technology corp gvs simation series paradigm simulation audioworks silicon graphics iris performer there are some but not off the top of my what companies are making interface devices for vr or boom there are too many to list but here is a fake space labs boom virtual technologies cyberglove digital image design the cricket kaiser electro optics sim eye helmet displays virtual research flight helmet display virtual reality head mtd software systems modeling software what are those addresses and phone where we can get a list name of vr experts and their phone numbers and email read some of the vr books on the virtual reality ken pimental and ken texiera virtual mirage artificial reality myron kreuger or check out the newsgroup feel free to contact me for more josh joshua mogal product manager advanced graphics division advanced graphics systems silicon graphics market manager north shoreline virtual reality mountain ca interactive entertainment', 'in article intersection between a line and a polygon by dave tom duff in recent many geometric problems have been successfully modeled in a new language called by adobe systems isbn given a line l and a polygon we can write a postscript program that draws the line l and the polygon and then the by we mean the program executes a command called which actually prints a page of paper containing the line and the a quick examination of the paper provides an answer to the reduced problem and thus the original in modern the point in a polygon problem can be solved even more to point in polygon allen b the amusement of regulars humor sense thereof this program will test whether a point is inside a given currently it uses the but that can be changed by replacing ineofill with these are level so if only got level out of the result will be printed on the output only accurate to device put a huge scale in first if you point to test vertices of polygon in order dup get aload pop moveto dup length dup roll sub getinterval aload pop lineto forall closepath ineofill ifelse', 'learn adobe illustrator and get started with graphic design from print and video ads to presentations and pitch graphic designers have their hands in a huge array of projects in an while some companies keep a design team many bring on contractors to handle their design either graphic designers enjoy lucrative careers that come with constant creative sound the adobe illustrator cc master class bundle can teach you the tools you need to know to get and on sale for under this bundle takes you on a comprehensive journey into one of the leading design adobe get a crash course in the understanding the nuts and bolts behind vector editing while learning how to use the core from learn how to apply your skills to build user interfaces on web pages and complete projects like flyers and static with that be able to create actual projects that you can include in a portfolio and send to in the advanced learn how to streamline your productivity and workflow and complete complex projects from ready to design your way to a brand new normally the adobe illustrator cc master class bundle is on sale now for just', 'in article trent canada in article have heard many bad things about the ati ultra plus card having do with its buggy windows would like to replace by ati graphics ultra with a accelerated i was about to buy the ati ultra plus but it has had so much press that i am i have the ati graphics ultra pro eisa i must admit it has received bad press but that was due to the faulty drivers it now the drivers that are available for the eisa version are the same ones as the isa and local bus build some people complained about problems they had with the build fortunately i duplicate them on my but i did have one problem with harvard graphics that nobody else seemed to would like an accelerated card a card that does true colour at at least a card that does at colours a card that has fast polygon fills a card that has fast bit blits a card that has a robust windows driver a card that has high speed refresh i recommed the ati for colour at at this resolution the display will be but at it i thought it was my this sound right to i have an ati ultra pro vlb card with and pretty sure it is not interlaced at in at work right now so i check it but i know that when i set it up the utility let me specify for this and i noticed it the couple times that i have put the card in this mode in but i could be wrong because i very rarely use this for most of my applications at home is what i phil monitor but it its the card is the only time you will get if i come up with cards more suited for your needs let you amro philip carmack kubota pacific', 'in article article according to the tiff the tiff has been chosen for its philosophical last i read the hitchhikers guide to the is this actually how they picked the number sure it and i am not every time i read that part of the it infuriates and none too happy about the of the spec because i think their but chosen is i find their of bytes to begin a file with meaningless of why just use the letters i think they should have bothered to support both word and found that many tiff readers actually why so up for that is out so why not gripe about its if its so important to volunteer to help define or critique the a little is and tiff is a bit image chris christopher tully of north carolina chapel hill chapel nc i get paid for my but that mean that unc or anybody else agrees with', 'procreate should you make the designers are in love with the app built for creative professionals makes designing on an ipad easier and more efficient in a completely new but can a app be a realistic photoshop for the answer is a definite here are five reasons procreate could become your design app five reasons why it might an introduction to what procreate and why it might be the perfect app for what is if you familiar with an ipad app made for professional you can paint and edit with a robust collection of it responds to touch and pressure with the apple pencil for detailed the tool includes a sleek interface and is a game changer when it comes to online drawing it includes customizable incredible canvas a nice layer and everything includes the ease of use expect from an apple product you can save images from device to while this tool is fun for a lot of most practical applications are for some light editing and for drawing but can procreate replace other software and quick image tweaking ant to touch up an image or stylize a piece of procreate has got you the image tweaking we call this an editing suite includes curve color balance and think of these tools as giving you the ability to design a cool filter of your own and apply it to then you can make it super fun with a view of the changes that you can this small feature is great for designers that are experimenting with new techniques and want to get or give for editing on a this is probably one of the and most professional options while tweaking images is procreate is really designed for the brush library has more than brushes that create almost any art technique you can also a system so you can mix and match brush every brush is customizable as be to have this many tools in an actual and we have a collection of of the best procreate brushes to get you what sets procreate apart in terms of illustration is that this is a professional set of you can create a huge canvas to work on and export the drawings in high resolution still or video hard to imagine how cool the illustration tools are until you start playing with add the apple pencil to the mix and just like the real albeit with the ability to tap the drawing experience is as close to real as you can get in the', 'dominic lai simon crowe i require bgi drivers for super vga displays and super xvga does anyone know where i could obtain the relevant drivers sites i would like to know dominic one of its many has a file called in the programming these are svga bgi drivers for a variety of the types chips trident and tseng and and these drivers will also work on video cards with vesa the tweaked drivers will work on any vga clark verbrugge', 'how to design a professional powerpoint presentation our series of tips on presentation design outlined some generic rules and ideas that you can live by to create more professional today we want to follow that up by taking you through the actual process of designing a presentation from start to break down every step of the design from choosing colors and images to using whitespace after reading through this you should be all set to design your own beautiful presentation slides that will put your coworkers to using a powerpoint template can be a good starting point for many people collected some of the best powerpoint templates for but if wanting to design your own from in the right how does unlimited powerpoint templates download thousands of powerpoint and many other design with a monthly envato elements it starts at per and gives you unlimited access to a growing library of over presentation and', 'does any one know of a decent quality library of routines for performing graphics modelling on the ideally the routines would be embeded in our application requirements flat surface modelling phong shading ability to plot drawings texture mapping both procedural and bit map modeling light sources and spot radiosity any comments would be john chinnick phone john chinnick', 'has anyone successfully converted interleaf graphics to or even heard of it being love to hear about mcconnell']\n"
          ]
        }
      ]
    },
    {
      "cell_type": "markdown",
      "source": [
        "# **Tokenization**"
      ],
      "metadata": {
        "id": "acT0L0_W9e0A"
      }
    },
    {
      "cell_type": "code",
      "source": [
        "import nltk\n",
        "from nltk.tokenize import word_tokenize\n",
        "nltk.download('punkt')\n",
        "tokenized_corpus=[]\n",
        "for i in range(len(alpha_corpus)):\n",
        "  tokenized_corpus.append(word_tokenize(alpha_corpus[i]))\n",
        "print(tokenized_corpus)"
      ],
      "metadata": {
        "id": "y2LFgoItghLu",
        "colab": {
          "base_uri": "https://localhost:8080/"
        },
        "outputId": "eb4cf49b-550c-4b89-db4c-b852d971c72e"
      },
      "execution_count": null,
      "outputs": [
        {
          "output_type": "stream",
          "name": "stdout",
          "text": [
            "[['biggest', 'graphic', 'design', 'trends', 'for', 'beyond', 'as', 'you', 'have', 'probably', 'the', 'past', 'few', 'years', 'in', 'design', 'have', 'been', 'dominated', 'by', 'bold', 'and', 'futuristic', 'but', 'in', 'the', 'graphic', 'design', 'world', 'is', 'going', 'to', 'feel', 'a', 'lot', 'more', 'and', 'except', 'for', 'the', 'those', 'are', 'going', 'to', 'get', 'a', 'lot', 'more', 'abstract', 'this', 'this', 'shift', 'is', 'likely', 'a', 'reaction', 'to', 'the', 'overuse', 'of', 'some', 'of', 'the', 'previous', 'graphic', 'design', 'design', 'styles', 'that', 'were', 'very', 'unique', 'just', 'a', 'few', 'years', 'ago', 'have', 'become', 'just', 'another', 'common', 'tactic', 'used', 'by', 'massive', 'so', 'to', 'stay', 'ahead', 'of', 'the', 'be', 'sure', 'to', 'check', 'out', 'the', 'graphic', 'design', 'trends', 'for', 'and', 'beyond'], ['sorry', 'i', 'missed', 'you', 'i', 'was', 'just', 'out', 'in', 'dahlgren', 'last', 'the', 'virtual', 'reality', 'market', 'manager', 'for', 'silicon', 'so', 'perhaps', 'i', 'can', 'help', 'a', 'in', 'article', 'the', 'real', 'our', 'agency', 'started', 'to', 'express', 'interest', 'in', 'virtual', 'so', 'we', 'do', 'not', 'know', 'much', 'about', 'all', 'we', 'know', 'about', 'are', 'the', 'hollywood', 'movies', 'terminater', 'and', 'we', 'also', 'know', 'something', 'about', 'vr', 'from', 'abc', 'news', 'magazine', 'and', 'computer', 'graphics', 'world', 'while', 'sgi', 'systems', 'were', 'used', 'to', 'create', 'the', 'special', 'effects', 'for', 'both', 'terminator', 'and', 'lawnmower', 'those', 'are', 'computer', 'rendered', 'in', 'software', 'and', 'written', 'to', 'film', 'a', 'frame', 'at', 'a', 'each', 'frame', 'of', 'computer', 'animation', 'for', 'those', 'films', 'took', 'hours', 'to', 'render', 'on', 'parallel', 'processing', 'computer', 'that', 'level', 'of', 'graphics', 'would', 'be', 'if', 'not', 'to', 'acheive', 'in', 'real', 'time', 'frames', 'per', 'we', 'certainly', 'want', 'to', 'know', 'more', 'about', 'who', 'are', 'the', 'leading', 'what', 'machines', 'support', 'vr', 'it', 'depends', 'upon', 'how', 'serious', 'you', 'are', 'and', 'how', 'advanced', 'your', 'application', 'true', 'immersive', 'visualization', 'requires', 'the', 'rendering', 'of', 'complex', 'visual', 'databases', 'at', 'anywhere', 'from', 'to', 'newly', 'rendered', 'frames', 'per', 'this', 'is', 'a', 'similar', 'requirement', 'to', 'that', 'of', 'traditional', 'flight', 'simulators', 'for', 'pilot', 'if', 'the', 'frame', 'rate', 'is', 'too', 'the', 'user', 'notices', 'the', 'stepping', 'of', 'the', 'frames', 'as', 'they', 'move', 'their', 'head', 'rapidly', 'around', 'the', 'so', 'the', 'motion', 'of', 'the', 'graphics', 'is', 'not', 'smooth', 'and', 'thus', 'the', 'graphics', 'system', 'must', 'be', 'powerful', 'enough', 'to', 'sustain', 'high', 'frame', 'rates', 'while', 'rendering', 'complex', 'data', 'the', 'frame', 'rate', 'must', 'be', 'if', 'the', 'system', 'renders', 'frames', 'per', 'second', 'at', 'one', 'then', 'frames', 'per', 'second', 'the', 'next', 'due', 'to', 'the', 'scene', 'in', 'the', 'new', 'viewing', 'direction', 'being', 'simpler', 'than', 'what', 'was', 'visible', 'the', 'user', 'can', 'get', 'heavily', 'distracted', 'by', 'the', 'medium', 'graphics', 'rather', 'than', 'focusing', 'on', 'the', 'to', 'maintain', 'a', 'constant', 'frame', 'the', 'system', 'must', 'be', 'able', 'to', 'run', 'in', 'unix', 'in', 'general', 'does', 'not', 'support', 'but', 'silicon', 'graphics', 'has', 'modified', 'the', 'unix', 'kernel', 'for', 'its', 'systems', 'to', 'be', 'able', 'to', 'support', 'bypassing', 'the', 'usual', 'unix', 'process', 'uniprocessor', 'systems', 'running', 'unix', 'can', 'not', 'fundamentally', 'support', 'operation', 'sun', 'not', 'hp', 'series', 'not', 'ibm', 'not', 'even', 'uniprocessor', 'systems', 'like', 'indigo', 'or', 'only', 'our', 'multiprocessor', 'onyx', 'and', 'challenge', 'systems', 'support', 'operation', 'due', 'to', 'their', 'symmetric', 'from', 'a', 'graphics', 'rendering', 'complex', 'virtual', 'environments', 'requires', 'advanced', 'rendering', 'techniques', 'like', 'texture', 'mapping', 'and', 'of', 'all', 'of', 'the', 'general', 'purpose', 'graphics', 'systems', 'on', 'the', 'market', 'only', 'crimson', 'realityengine', 'and', 'onyx', 'systems', 'fully', 'support', 'these', 'the', 'is', 'particularly', 'as', 'the', 'crawling', 'jagged', 'edges', 'of', 'aliased', 'polygons', 'is', 'an', 'unfortunate', 'distraction', 'when', 'immersed', 'in', 'a', 'virtual', 'what', 'kind', 'of', 'graphics', 'languages', 'are', 'used', 'with', 'vr', 'you', 'can', 'use', 'the', 'general', 'purpose', 'graphics', 'libraries', 'listed', 'above', 'to', 'develop', 'vr', 'but', 'that', 'is', 'starting', 'at', 'a', 'pretty', 'low', 'there', 'are', 'shelf', 'software', 'packages', 'available', 'to', 'get', 'you', 'going', 'much', 'being', 'targeted', 'directly', 'at', 'the', 'vr', 'application', 'some', 'of', 'the', 'most', 'popular', 'are', 'no', 'particular', 'division', 'dvs', 'worldtoolkit', 'naval', 'postgraduate', 'school', 'npsnet', 'gemini', 'technology', 'corp', 'gvs', 'simation', 'series', 'paradigm', 'simulation', 'audioworks', 'silicon', 'graphics', 'iris', 'performer', 'there', 'are', 'some', 'but', 'not', 'off', 'the', 'top', 'of', 'my', 'what', 'companies', 'are', 'making', 'interface', 'devices', 'for', 'vr', 'or', 'boom', 'there', 'are', 'too', 'many', 'to', 'list', 'but', 'here', 'is', 'a', 'fake', 'space', 'labs', 'boom', 'virtual', 'technologies', 'cyberglove', 'digital', 'image', 'design', 'the', 'cricket', 'kaiser', 'electro', 'optics', 'sim', 'eye', 'helmet', 'displays', 'virtual', 'research', 'flight', 'helmet', 'display', 'virtual', 'reality', 'head', 'mtd', 'software', 'systems', 'modeling', 'software', 'what', 'are', 'those', 'addresses', 'and', 'phone', 'where', 'we', 'can', 'get', 'a', 'list', 'name', 'of', 'vr', 'experts', 'and', 'their', 'phone', 'numbers', 'and', 'email', 'read', 'some', 'of', 'the', 'vr', 'books', 'on', 'the', 'virtual', 'reality', 'ken', 'pimental', 'and', 'ken', 'texiera', 'virtual', 'mirage', 'artificial', 'reality', 'myron', 'kreuger', 'or', 'check', 'out', 'the', 'newsgroup', 'feel', 'free', 'to', 'contact', 'me', 'for', 'more', 'josh', 'joshua', 'mogal', 'product', 'manager', 'advanced', 'graphics', 'division', 'advanced', 'graphics', 'systems', 'silicon', 'graphics', 'market', 'manager', 'north', 'shoreline', 'virtual', 'reality', 'mountain', 'ca', 'interactive', 'entertainment'], ['in', 'article', 'intersection', 'between', 'a', 'line', 'and', 'a', 'polygon', 'by', 'dave', 'tom', 'duff', 'in', 'recent', 'many', 'geometric', 'problems', 'have', 'been', 'successfully', 'modeled', 'in', 'a', 'new', 'language', 'called', 'by', 'adobe', 'systems', 'isbn', 'given', 'a', 'line', 'l', 'and', 'a', 'polygon', 'we', 'can', 'write', 'a', 'postscript', 'program', 'that', 'draws', 'the', 'line', 'l', 'and', 'the', 'polygon', 'and', 'then', 'the', 'by', 'we', 'mean', 'the', 'program', 'executes', 'a', 'command', 'called', 'which', 'actually', 'prints', 'a', 'page', 'of', 'paper', 'containing', 'the', 'line', 'and', 'the', 'a', 'quick', 'examination', 'of', 'the', 'paper', 'provides', 'an', 'answer', 'to', 'the', 'reduced', 'problem', 'and', 'thus', 'the', 'original', 'in', 'modern', 'the', 'point', 'in', 'a', 'polygon', 'problem', 'can', 'be', 'solved', 'even', 'more', 'to', 'point', 'in', 'polygon', 'allen', 'b', 'the', 'amusement', 'of', 'regulars', 'humor', 'sense', 'thereof', 'this', 'program', 'will', 'test', 'whether', 'a', 'point', 'is', 'inside', 'a', 'given', 'currently', 'it', 'uses', 'the', 'but', 'that', 'can', 'be', 'changed', 'by', 'replacing', 'ineofill', 'with', 'these', 'are', 'level', 'so', 'if', 'only', 'got', 'level', 'out', 'of', 'the', 'result', 'will', 'be', 'printed', 'on', 'the', 'output', 'only', 'accurate', 'to', 'device', 'put', 'a', 'huge', 'scale', 'in', 'first', 'if', 'you', 'point', 'to', 'test', 'vertices', 'of', 'polygon', 'in', 'order', 'dup', 'get', 'aload', 'pop', 'moveto', 'dup', 'length', 'dup', 'roll', 'sub', 'getinterval', 'aload', 'pop', 'lineto', 'forall', 'closepath', 'ineofill', 'ifelse'], ['learn', 'adobe', 'illustrator', 'and', 'get', 'started', 'with', 'graphic', 'design', 'from', 'print', 'and', 'video', 'ads', 'to', 'presentations', 'and', 'pitch', 'graphic', 'designers', 'have', 'their', 'hands', 'in', 'a', 'huge', 'array', 'of', 'projects', 'in', 'an', 'while', 'some', 'companies', 'keep', 'a', 'design', 'team', 'many', 'bring', 'on', 'contractors', 'to', 'handle', 'their', 'design', 'either', 'graphic', 'designers', 'enjoy', 'lucrative', 'careers', 'that', 'come', 'with', 'constant', 'creative', 'sound', 'the', 'adobe', 'illustrator', 'cc', 'master', 'class', 'bundle', 'can', 'teach', 'you', 'the', 'tools', 'you', 'need', 'to', 'know', 'to', 'get', 'and', 'on', 'sale', 'for', 'under', 'this', 'bundle', 'takes', 'you', 'on', 'a', 'comprehensive', 'journey', 'into', 'one', 'of', 'the', 'leading', 'design', 'adobe', 'get', 'a', 'crash', 'course', 'in', 'the', 'understanding', 'the', 'nuts', 'and', 'bolts', 'behind', 'vector', 'editing', 'while', 'learning', 'how', 'to', 'use', 'the', 'core', 'from', 'learn', 'how', 'to', 'apply', 'your', 'skills', 'to', 'build', 'user', 'interfaces', 'on', 'web', 'pages', 'and', 'complete', 'projects', 'like', 'flyers', 'and', 'static', 'with', 'that', 'be', 'able', 'to', 'create', 'actual', 'projects', 'that', 'you', 'can', 'include', 'in', 'a', 'portfolio', 'and', 'send', 'to', 'in', 'the', 'advanced', 'learn', 'how', 'to', 'streamline', 'your', 'productivity', 'and', 'workflow', 'and', 'complete', 'complex', 'projects', 'from', 'ready', 'to', 'design', 'your', 'way', 'to', 'a', 'brand', 'new', 'normally', 'the', 'adobe', 'illustrator', 'cc', 'master', 'class', 'bundle', 'is', 'on', 'sale', 'now', 'for', 'just'], ['in', 'article', 'trent', 'canada', 'in', 'article', 'have', 'heard', 'many', 'bad', 'things', 'about', 'the', 'ati', 'ultra', 'plus', 'card', 'having', 'do', 'with', 'its', 'buggy', 'windows', 'would', 'like', 'to', 'replace', 'by', 'ati', 'graphics', 'ultra', 'with', 'a', 'accelerated', 'i', 'was', 'about', 'to', 'buy', 'the', 'ati', 'ultra', 'plus', 'but', 'it', 'has', 'had', 'so', 'much', 'press', 'that', 'i', 'am', 'i', 'have', 'the', 'ati', 'graphics', 'ultra', 'pro', 'eisa', 'i', 'must', 'admit', 'it', 'has', 'received', 'bad', 'press', 'but', 'that', 'was', 'due', 'to', 'the', 'faulty', 'drivers', 'it', 'now', 'the', 'drivers', 'that', 'are', 'available', 'for', 'the', 'eisa', 'version', 'are', 'the', 'same', 'ones', 'as', 'the', 'isa', 'and', 'local', 'bus', 'build', 'some', 'people', 'complained', 'about', 'problems', 'they', 'had', 'with', 'the', 'build', 'fortunately', 'i', 'duplicate', 'them', 'on', 'my', 'but', 'i', 'did', 'have', 'one', 'problem', 'with', 'harvard', 'graphics', 'that', 'nobody', 'else', 'seemed', 'to', 'would', 'like', 'an', 'accelerated', 'card', 'a', 'card', 'that', 'does', 'true', 'colour', 'at', 'at', 'least', 'a', 'card', 'that', 'does', 'at', 'colours', 'a', 'card', 'that', 'has', 'fast', 'polygon', 'fills', 'a', 'card', 'that', 'has', 'fast', 'bit', 'blits', 'a', 'card', 'that', 'has', 'a', 'robust', 'windows', 'driver', 'a', 'card', 'that', 'has', 'high', 'speed', 'refresh', 'i', 'recommed', 'the', 'ati', 'for', 'colour', 'at', 'at', 'this', 'resolution', 'the', 'display', 'will', 'be', 'but', 'at', 'it', 'i', 'thought', 'it', 'was', 'my', 'this', 'sound', 'right', 'to', 'i', 'have', 'an', 'ati', 'ultra', 'pro', 'vlb', 'card', 'with', 'and', 'pretty', 'sure', 'it', 'is', 'not', 'interlaced', 'at', 'in', 'at', 'work', 'right', 'now', 'so', 'i', 'check', 'it', 'but', 'i', 'know', 'that', 'when', 'i', 'set', 'it', 'up', 'the', 'utility', 'let', 'me', 'specify', 'for', 'this', 'and', 'i', 'noticed', 'it', 'the', 'couple', 'times', 'that', 'i', 'have', 'put', 'the', 'card', 'in', 'this', 'mode', 'in', 'but', 'i', 'could', 'be', 'wrong', 'because', 'i', 'very', 'rarely', 'use', 'this', 'for', 'most', 'of', 'my', 'applications', 'at', 'home', 'is', 'what', 'i', 'phil', 'monitor', 'but', 'it', 'its', 'the', 'card', 'is', 'the', 'only', 'time', 'you', 'will', 'get', 'if', 'i', 'come', 'up', 'with', 'cards', 'more', 'suited', 'for', 'your', 'needs', 'let', 'you', 'amro', 'philip', 'carmack', 'kubota', 'pacific'], ['in', 'article', 'article', 'according', 'to', 'the', 'tiff', 'the', 'tiff', 'has', 'been', 'chosen', 'for', 'its', 'philosophical', 'last', 'i', 'read', 'the', 'hitchhikers', 'guide', 'to', 'the', 'is', 'this', 'actually', 'how', 'they', 'picked', 'the', 'number', 'sure', 'it', 'and', 'i', 'am', 'not', 'every', 'time', 'i', 'read', 'that', 'part', 'of', 'the', 'it', 'infuriates', 'and', 'none', 'too', 'happy', 'about', 'the', 'of', 'the', 'spec', 'because', 'i', 'think', 'their', 'but', 'chosen', 'is', 'i', 'find', 'their', 'of', 'bytes', 'to', 'begin', 'a', 'file', 'with', 'meaningless', 'of', 'why', 'just', 'use', 'the', 'letters', 'i', 'think', 'they', 'should', 'have', 'bothered', 'to', 'support', 'both', 'word', 'and', 'found', 'that', 'many', 'tiff', 'readers', 'actually', 'why', 'so', 'up', 'for', 'that', 'is', 'out', 'so', 'why', 'not', 'gripe', 'about', 'its', 'if', 'its', 'so', 'important', 'to', 'volunteer', 'to', 'help', 'define', 'or', 'critique', 'the', 'a', 'little', 'is', 'and', 'tiff', 'is', 'a', 'bit', 'image', 'chris', 'christopher', 'tully', 'of', 'north', 'carolina', 'chapel', 'hill', 'chapel', 'nc', 'i', 'get', 'paid', 'for', 'my', 'but', 'that', 'mean', 'that', 'unc', 'or', 'anybody', 'else', 'agrees', 'with'], ['procreate', 'should', 'you', 'make', 'the', 'designers', 'are', 'in', 'love', 'with', 'the', 'app', 'built', 'for', 'creative', 'professionals', 'makes', 'designing', 'on', 'an', 'ipad', 'easier', 'and', 'more', 'efficient', 'in', 'a', 'completely', 'new', 'but', 'can', 'a', 'app', 'be', 'a', 'realistic', 'photoshop', 'for', 'the', 'answer', 'is', 'a', 'definite', 'here', 'are', 'five', 'reasons', 'procreate', 'could', 'become', 'your', 'design', 'app', 'five', 'reasons', 'why', 'it', 'might', 'an', 'introduction', 'to', 'what', 'procreate', 'and', 'why', 'it', 'might', 'be', 'the', 'perfect', 'app', 'for', 'what', 'is', 'if', 'you', 'familiar', 'with', 'an', 'ipad', 'app', 'made', 'for', 'professional', 'you', 'can', 'paint', 'and', 'edit', 'with', 'a', 'robust', 'collection', 'of', 'it', 'responds', 'to', 'touch', 'and', 'pressure', 'with', 'the', 'apple', 'pencil', 'for', 'detailed', 'the', 'tool', 'includes', 'a', 'sleek', 'interface', 'and', 'is', 'a', 'game', 'changer', 'when', 'it', 'comes', 'to', 'online', 'drawing', 'it', 'includes', 'customizable', 'incredible', 'canvas', 'a', 'nice', 'layer', 'and', 'everything', 'includes', 'the', 'ease', 'of', 'use', 'expect', 'from', 'an', 'apple', 'product', 'you', 'can', 'save', 'images', 'from', 'device', 'to', 'while', 'this', 'tool', 'is', 'fun', 'for', 'a', 'lot', 'of', 'most', 'practical', 'applications', 'are', 'for', 'some', 'light', 'editing', 'and', 'for', 'drawing', 'but', 'can', 'procreate', 'replace', 'other', 'software', 'and', 'quick', 'image', 'tweaking', 'ant', 'to', 'touch', 'up', 'an', 'image', 'or', 'stylize', 'a', 'piece', 'of', 'procreate', 'has', 'got', 'you', 'the', 'image', 'tweaking', 'we', 'call', 'this', 'an', 'editing', 'suite', 'includes', 'curve', 'color', 'balance', 'and', 'think', 'of', 'these', 'tools', 'as', 'giving', 'you', 'the', 'ability', 'to', 'design', 'a', 'cool', 'filter', 'of', 'your', 'own', 'and', 'apply', 'it', 'to', 'then', 'you', 'can', 'make', 'it', 'super', 'fun', 'with', 'a', 'view', 'of', 'the', 'changes', 'that', 'you', 'can', 'this', 'small', 'feature', 'is', 'great', 'for', 'designers', 'that', 'are', 'experimenting', 'with', 'new', 'techniques', 'and', 'want', 'to', 'get', 'or', 'give', 'for', 'editing', 'on', 'a', 'this', 'is', 'probably', 'one', 'of', 'the', 'and', 'most', 'professional', 'options', 'while', 'tweaking', 'images', 'is', 'procreate', 'is', 'really', 'designed', 'for', 'the', 'brush', 'library', 'has', 'more', 'than', 'brushes', 'that', 'create', 'almost', 'any', 'art', 'technique', 'you', 'can', 'also', 'a', 'system', 'so', 'you', 'can', 'mix', 'and', 'match', 'brush', 'every', 'brush', 'is', 'customizable', 'as', 'be', 'to', 'have', 'this', 'many', 'tools', 'in', 'an', 'actual', 'and', 'we', 'have', 'a', 'collection', 'of', 'of', 'the', 'best', 'procreate', 'brushes', 'to', 'get', 'you', 'what', 'sets', 'procreate', 'apart', 'in', 'terms', 'of', 'illustration', 'is', 'that', 'this', 'is', 'a', 'professional', 'set', 'of', 'you', 'can', 'create', 'a', 'huge', 'canvas', 'to', 'work', 'on', 'and', 'export', 'the', 'drawings', 'in', 'high', 'resolution', 'still', 'or', 'video', 'hard', 'to', 'imagine', 'how', 'cool', 'the', 'illustration', 'tools', 'are', 'until', 'you', 'start', 'playing', 'with', 'add', 'the', 'apple', 'pencil', 'to', 'the', 'mix', 'and', 'just', 'like', 'the', 'real', 'albeit', 'with', 'the', 'ability', 'to', 'tap', 'the', 'drawing', 'experience', 'is', 'as', 'close', 'to', 'real', 'as', 'you', 'can', 'get', 'in', 'the'], ['dominic', 'lai', 'simon', 'crowe', 'i', 'require', 'bgi', 'drivers', 'for', 'super', 'vga', 'displays', 'and', 'super', 'xvga', 'does', 'anyone', 'know', 'where', 'i', 'could', 'obtain', 'the', 'relevant', 'drivers', 'sites', 'i', 'would', 'like', 'to', 'know', 'dominic', 'one', 'of', 'its', 'many', 'has', 'a', 'file', 'called', 'in', 'the', 'programming', 'these', 'are', 'svga', 'bgi', 'drivers', 'for', 'a', 'variety', 'of', 'the', 'types', 'chips', 'trident', 'and', 'tseng', 'and', 'and', 'these', 'drivers', 'will', 'also', 'work', 'on', 'video', 'cards', 'with', 'vesa', 'the', 'tweaked', 'drivers', 'will', 'work', 'on', 'any', 'vga', 'clark', 'verbrugge'], ['how', 'to', 'design', 'a', 'professional', 'powerpoint', 'presentation', 'our', 'series', 'of', 'tips', 'on', 'presentation', 'design', 'outlined', 'some', 'generic', 'rules', 'and', 'ideas', 'that', 'you', 'can', 'live', 'by', 'to', 'create', 'more', 'professional', 'today', 'we', 'want', 'to', 'follow', 'that', 'up', 'by', 'taking', 'you', 'through', 'the', 'actual', 'process', 'of', 'designing', 'a', 'presentation', 'from', 'start', 'to', 'break', 'down', 'every', 'step', 'of', 'the', 'design', 'from', 'choosing', 'colors', 'and', 'images', 'to', 'using', 'whitespace', 'after', 'reading', 'through', 'this', 'you', 'should', 'be', 'all', 'set', 'to', 'design', 'your', 'own', 'beautiful', 'presentation', 'slides', 'that', 'will', 'put', 'your', 'coworkers', 'to', 'using', 'a', 'powerpoint', 'template', 'can', 'be', 'a', 'good', 'starting', 'point', 'for', 'many', 'people', 'collected', 'some', 'of', 'the', 'best', 'powerpoint', 'templates', 'for', 'but', 'if', 'wanting', 'to', 'design', 'your', 'own', 'from', 'in', 'the', 'right', 'how', 'does', 'unlimited', 'powerpoint', 'templates', 'download', 'thousands', 'of', 'powerpoint', 'and', 'many', 'other', 'design', 'with', 'a', 'monthly', 'envato', 'elements', 'it', 'starts', 'at', 'per', 'and', 'gives', 'you', 'unlimited', 'access', 'to', 'a', 'growing', 'library', 'of', 'over', 'presentation', 'and'], ['does', 'any', 'one', 'know', 'of', 'a', 'decent', 'quality', 'library', 'of', 'routines', 'for', 'performing', 'graphics', 'modelling', 'on', 'the', 'ideally', 'the', 'routines', 'would', 'be', 'embeded', 'in', 'our', 'application', 'requirements', 'flat', 'surface', 'modelling', 'phong', 'shading', 'ability', 'to', 'plot', 'drawings', 'texture', 'mapping', 'both', 'procedural', 'and', 'bit', 'map', 'modeling', 'light', 'sources', 'and', 'spot', 'radiosity', 'any', 'comments', 'would', 'be', 'john', 'chinnick', 'phone', 'john', 'chinnick'], ['has', 'anyone', 'successfully', 'converted', 'interleaf', 'graphics', 'to', 'or', 'even', 'heard', 'of', 'it', 'being', 'love', 'to', 'hear', 'about', 'mcconnell']]\n"
          ]
        },
        {
          "output_type": "stream",
          "name": "stderr",
          "text": [
            "[nltk_data] Downloading package punkt to /root/nltk_data...\n",
            "[nltk_data]   Package punkt is already up-to-date!\n"
          ]
        }
      ]
    },
    {
      "cell_type": "markdown",
      "source": [
        "# **Removal Stopword**"
      ],
      "metadata": {
        "id": "VMwNcps_Lkal"
      }
    },
    {
      "cell_type": "code",
      "source": [
        "import nltk\n",
        "nltk.download('stopwords')\n",
        "from nltk.corpus import stopwords\n",
        "# stop=stopwords.words(fields='english')\n",
        "tokenized_corpus_nostop=[]\n",
        "for i in range(len(tokenized_corpus)):\n",
        "  tokenized_corpus_nostop.append([word for word in tokenized_corpus[i] if word not in stop])\n",
        "print(tokenized_corpus_nostop)"
      ],
      "metadata": {
        "id": "lKGtVNJLDgGo",
        "colab": {
          "base_uri": "https://localhost:8080/"
        },
        "outputId": "832f4790-1da4-478e-cadf-1eb6baa33116"
      },
      "execution_count": null,
      "outputs": [
        {
          "output_type": "stream",
          "name": "stdout",
          "text": [
            "[]\n"
          ]
        },
        {
          "output_type": "stream",
          "name": "stderr",
          "text": [
            "[nltk_data] Downloading package stopwords to /root/nltk_data...\n",
            "[nltk_data]   Unzipping corpora/stopwords.zip.\n"
          ]
        }
      ]
    },
    {
      "cell_type": "markdown",
      "source": [
        "# **Stemming**"
      ],
      "metadata": {
        "id": "xE6T3HreScj-"
      }
    },
    {
      "cell_type": "code",
      "source": [
        "from nltk.stem import PorterStemmer\n",
        "ps=PorterStemmer()\n",
        "tokenized_corpus_nostop_stem=[]\n",
        "for i in range(len(tokenized_corpus_nostop)):\n",
        "  tokenized_corpus_nostop_stem.append([ps.stem(word) for word in tokenized_corpus_nostop[i]])\n",
        "print(tokenized_corpus_nostop_stem)"
      ],
      "metadata": {
        "id": "SdxOmVB8ghQP",
        "colab": {
          "base_uri": "https://localhost:8080/"
        },
        "outputId": "8d7882b0-c257-4da5-dcac-c8ada76fb226"
      },
      "execution_count": null,
      "outputs": [
        {
          "output_type": "stream",
          "name": "stdout",
          "text": [
            "[]\n"
          ]
        }
      ]
    },
    {
      "cell_type": "markdown",
      "source": [
        "# ***Convert the corpus into Bag-of-Words and tf-idf feature matrix using:***\n",
        "(a) TfidfVectorizer()and CountVectorizer\n",
        "\n",
        "(b) Without using in-built functions"
      ],
      "metadata": {
        "id": "ELEAvZtemcIL"
      }
    },
    {
      "cell_type": "code",
      "source": [
        "!pip install scikit-learn\n",
        "from sklearn.feature_extraction.text import CountVectorizer, TfidfVectorizer\n",
        "\n",
        "corpus=alpha_corpus\n",
        "\n",
        "count_vectorizer = CountVectorizer()\n",
        "X_count = count_vectorizer.fit_transform(corpus)\n",
        "\n",
        "tfidf_vectorizer = TfidfVectorizer()\n",
        "X_tfidf = tfidf_vectorizer.fit_transform(corpus)\n",
        "\n",
        "X_count_dense = X_count.toarray()\n",
        "X_tfidf_dense = X_tfidf.toarray()\n",
        "\n",
        "print(\"Bag-of-Words Feature Matrix:\")\n",
        "print(X_count_dense)\n",
        "print(\"\\nTF-IDF Feature Matrix:\")\n",
        "print(X_tfidf_dense)\n",
        "\n",
        "print(\"\\nFeature Names:\")\n",
        "print(\"Bag-of-Words:\", count_vectorizer.get_feature_names_out())\n",
        "print(\"TF-IDF:\", tfidf_vectorizer.get_feature_names_out())\n"
      ],
      "metadata": {
        "id": "UD_xt7jTghUg",
        "colab": {
          "base_uri": "https://localhost:8080/"
        },
        "outputId": "425a0dcc-1e0a-43e3-b2f3-b2d0d54ed200"
      },
      "execution_count": null,
      "outputs": [
        {
          "output_type": "stream",
          "name": "stdout",
          "text": [
            "Requirement already satisfied: scikit-learn in /usr/local/lib/python3.10/dist-packages (1.2.2)\n",
            "Requirement already satisfied: numpy>=1.17.3 in /usr/local/lib/python3.10/dist-packages (from scikit-learn) (1.23.5)\n",
            "Requirement already satisfied: scipy>=1.3.2 in /usr/local/lib/python3.10/dist-packages (from scikit-learn) (1.11.4)\n",
            "Requirement already satisfied: joblib>=1.1.1 in /usr/local/lib/python3.10/dist-packages (from scikit-learn) (1.3.2)\n",
            "Requirement already satisfied: threadpoolctl>=2.0.0 in /usr/local/lib/python3.10/dist-packages (from scikit-learn) (3.2.0)\n",
            "Bag-of-Words Feature Matrix:\n",
            "[[0 0 0 ... 2 1 0]\n",
            " [1 0 2 ... 0 4 1]\n",
            " [0 0 0 ... 0 1 0]\n",
            " ...\n",
            " [0 0 0 ... 0 4 3]\n",
            " [0 1 0 ... 0 0 0]\n",
            " [0 0 0 ... 0 0 0]]\n",
            "\n",
            "TF-IDF Feature Matrix:\n",
            "[[0.         0.         0.         ... 0.19759352 0.04973759 0.        ]\n",
            " [0.02653185 0.         0.04535692 ... 0.         0.05342808 0.01609104]\n",
            " [0.         0.         0.         ... 0.         0.03220846 0.        ]\n",
            " ...\n",
            " [0.         0.         0.         ... 0.         0.14994254 0.1354755 ]\n",
            " [0.         0.12098996 0.         ... 0.         0.         0.        ]\n",
            " [0.         0.         0.         ... 0.         0.         0.        ]]\n",
            "\n",
            "Feature Names:\n",
            "Bag-of-Words: ['abc' 'ability' 'able' 'about' 'above' 'abstract' 'accelerated' 'access'\n",
            " 'according' 'accurate' 'acheive' 'actual' 'actually' 'add' 'addresses'\n",
            " 'admit' 'adobe' 'ads' 'advanced' 'after' 'agency' 'ago' 'agrees' 'ahead'\n",
            " 'albeit' 'aliased' 'all' 'allen' 'almost' 'aload' 'also' 'am' 'amro'\n",
            " 'amusement' 'an' 'and' 'animation' 'another' 'answer' 'ant' 'any'\n",
            " 'anybody' 'anyone' 'anywhere' 'apart' 'app' 'apple' 'application'\n",
            " 'applications' 'apply' 'are' 'around' 'array' 'art' 'article'\n",
            " 'artificial' 'as' 'at' 'ati' 'audioworks' 'available' 'bad' 'balance'\n",
            " 'be' 'beautiful' 'because' 'become' 'been' 'begin' 'behind' 'being'\n",
            " 'best' 'between' 'beyond' 'bgi' 'biggest' 'bit' 'blits' 'bold' 'bolts'\n",
            " 'books' 'boom' 'both' 'bothered' 'brand' 'break' 'bring' 'brush'\n",
            " 'brushes' 'buggy' 'build' 'built' 'bundle' 'bus' 'but' 'buy' 'by'\n",
            " 'bypassing' 'bytes' 'ca' 'call' 'called' 'can' 'canada' 'cannot' 'canvas'\n",
            " 'card' 'cards' 'careers' 'carmack' 'carolina' 'cc' 'certainly'\n",
            " 'challenge' 'changed' 'changer' 'changes' 'chapel' 'check' 'chinnick'\n",
            " 'chips' 'choosing' 'chosen' 'chris' 'christopher' 'clark' 'class' 'close'\n",
            " 'closepath' 'collected' 'collection' 'color' 'colors' 'colour' 'colours'\n",
            " 'come' 'comes' 'command' 'comments' 'common' 'companies' 'complained'\n",
            " 'complete' 'completely' 'complex' 'comprehensive' 'computer' 'constant'\n",
            " 'contact' 'containing' 'contractors' 'converted' 'cool' 'core' 'corp'\n",
            " 'could' 'couple' 'course' 'coworkers' 'crash' 'crawling' 'create'\n",
            " 'creative' 'cricket' 'crimson' 'critique' 'crowe' 'currently' 'curve'\n",
            " 'customizable' 'cyberglove' 'dahlgren' 'data' 'databases' 'dave' 'decent'\n",
            " 'define' 'definite' 'depends' 'design' 'designed' 'designers' 'designing'\n",
            " 'detailed' 'develop' 'device' 'devices' 'did' 'digital' 'direction'\n",
            " 'directly' 'display' 'displays' 'distracted' 'distraction' 'division'\n",
            " 'do' 'does' 'dominated' 'dominic' 'down' 'download' 'drawing' 'drawings'\n",
            " 'draws' 'driver' 'drivers' 'due' 'duff' 'dup' 'duplicate' 'dvs' 'each'\n",
            " 'ease' 'easier' 'edges' 'edit' 'editing' 'effects' 'efficient' 'eisa'\n",
            " 'either' 'electro' 'elements' 'else' 'email' 'embeded' 'enjoy' 'enough'\n",
            " 'entertainment' 'envato' 'environments' 'even' 'every' 'everything'\n",
            " 'examination' 'except' 'executes' 'expect' 'experience' 'experimenting'\n",
            " 'experts' 'export' 'express' 'eye' 'fake' 'familiar' 'fast' 'faulty'\n",
            " 'feature' 'feel' 'few' 'file' 'fills' 'film' 'films' 'filter' 'find'\n",
            " 'first' 'five' 'flat' 'flight' 'flyers' 'focusing' 'follow' 'for'\n",
            " 'forall' 'fortunately' 'found' 'frame' 'frames' 'free' 'from' 'fully'\n",
            " 'fun' 'fundamentally' 'futuristic' 'game' 'gemini' 'general' 'generic'\n",
            " 'geometric' 'get' 'getinterval' 'give' 'given' 'gives' 'giving' 'going'\n",
            " 'good' 'got' 'graphic' 'graphics' 'great' 'gripe' 'growing' 'guide' 'gvs'\n",
            " 'had' 'handle' 'hands' 'happy' 'hard' 'harvard' 'has' 'have' 'having'\n",
            " 'head' 'hear' 'heard' 'heavily' 'helmet' 'help' 'here' 'high' 'hill'\n",
            " 'hitchhikers' 'hollywood' 'home' 'hours' 'how' 'hp' 'huge' 'humor' 'ibm'\n",
            " 'ideally' 'ideas' 'if' 'ifelse' 'illustration' 'illustrator' 'image'\n",
            " 'images' 'imagine' 'immersed' 'immersive' 'important' 'in' 'include'\n",
            " 'includes' 'incredible' 'indigo' 'ineofill' 'infuriates' 'inside'\n",
            " 'interactive' 'interest' 'interface' 'interfaces' 'interlaced'\n",
            " 'interleaf' 'intersection' 'into' 'introduction' 'ipad' 'iris' 'is' 'isa'\n",
            " 'isbn' 'it' 'its' 'jagged' 'john' 'josh' 'joshua' 'journey' 'just'\n",
            " 'kaiser' 'keep' 'ken' 'kernel' 'kind' 'know' 'kreuger' 'kubota' 'labs'\n",
            " 'lai' 'language' 'languages' 'last' 'lawnmower' 'layer' 'leading' 'learn'\n",
            " 'learning' 'least' 'length' 'let' 'letters' 'level' 'libraries' 'library'\n",
            " 'light' 'like' 'likely' 'line' 'lineto' 'list' 'listed' 'little' 'live'\n",
            " 'local' 'lot' 'love' 'low' 'lucrative' 'machines' 'made' 'magazine'\n",
            " 'maintain' 'make' 'makes' 'making' 'manager' 'many' 'map' 'mapping'\n",
            " 'market' 'massive' 'master' 'match' 'mcconnell' 'me' 'mean' 'meaningless'\n",
            " 'medium' 'might' 'mirage' 'missed' 'mix' 'mode' 'modeled' 'modeling'\n",
            " 'modelling' 'modern' 'modified' 'mogal' 'monitor' 'monthly' 'more' 'most'\n",
            " 'motion' 'mountain' 'move' 'moveto' 'movies' 'mtd' 'much'\n",
            " 'multiprocessor' 'must' 'my' 'myron' 'name' 'naval' 'nc' 'need' 'needs'\n",
            " 'new' 'newly' 'news' 'newsgroup' 'next' 'nice' 'no' 'nobody' 'none'\n",
            " 'normally' 'north' 'not' 'noticed' 'notices' 'now' 'npsnet' 'number'\n",
            " 'numbers' 'nuts' 'obtain' 'of' 'off' 'on' 'one' 'ones' 'online' 'only'\n",
            " 'onyx' 'operation' 'optics' 'options' 'or' 'order' 'original' 'other'\n",
            " 'our' 'out' 'outlined' 'output' 'over' 'overuse' 'own' 'pacific'\n",
            " 'packages' 'page' 'pages' 'paid' 'paint' 'paper' 'paradigm' 'parallel'\n",
            " 'part' 'particular' 'particularly' 'past' 'pencil' 'people' 'per'\n",
            " 'perfect' 'performer' 'performing' 'perhaps' 'phil' 'philip'\n",
            " 'philosophical' 'phone' 'phong' 'photoshop' 'picked' 'piece' 'pilot'\n",
            " 'pimental' 'pitch' 'playing' 'plot' 'plus' 'point' 'polygon' 'polygons'\n",
            " 'pop' 'popular' 'portfolio' 'postgraduate' 'postscript' 'powerful'\n",
            " 'powerpoint' 'practical' 'presentation' 'presentations' 'press'\n",
            " 'pressure' 'pretty' 'previous' 'print' 'printed' 'prints' 'pro'\n",
            " 'probably' 'problem' 'problems' 'procedural' 'process' 'processing'\n",
            " 'procreate' 'product' 'productivity' 'professional' 'professionals'\n",
            " 'program' 'programming' 'projects' 'provides' 'purpose' 'put' 'quality'\n",
            " 'quick' 'radiosity' 'rapidly' 'rarely' 'rate' 'rates' 'rather' 'reaction'\n",
            " 'read' 'readers' 'reading' 'ready' 'real' 'realistic' 'reality'\n",
            " 'realityengine' 'really' 'reasons' 'received' 'recent' 'recommed'\n",
            " 'reduced' 'refresh' 'regulars' 'relevant' 'render' 'rendered' 'rendering'\n",
            " 'renders' 'replace' 'replacing' 'require' 'requirement' 'requirements'\n",
            " 'requires' 'research' 'resolution' 'responds' 'result' 'right' 'robust'\n",
            " 'roll' 'routines' 'rules' 'run' 'running' 'sale' 'same' 'save' 'scale'\n",
            " 'scene' 'school' 'second' 'seemed' 'send' 'sense' 'series' 'serious'\n",
            " 'set' 'sets' 'sgi' 'shading' 'shelf' 'shift' 'shoreline' 'should'\n",
            " 'silicon' 'sim' 'simation' 'similar' 'simon' 'simpler' 'simulation'\n",
            " 'simulators' 'sites' 'skills' 'sleek' 'slides' 'small' 'smooth' 'so'\n",
            " 'software' 'solved' 'some' 'something' 'sorry' 'sound' 'sources' 'space'\n",
            " 'spec' 'special' 'specify' 'speed' 'spot' 'start' 'started' 'starting'\n",
            " 'starts' 'static' 'stay' 'step' 'stepping' 'still' 'streamline' 'styles'\n",
            " 'stylize' 'sub' 'successfully' 'suite' 'suited' 'sun' 'super' 'support'\n",
            " 'sure' 'surface' 'sustain' 'svga' 'symmetric' 'system' 'systems' 'tactic'\n",
            " 'takes' 'taking' 'tap' 'targeted' 'teach' 'team' 'technique' 'techniques'\n",
            " 'technologies' 'technology' 'template' 'templates' 'terminater'\n",
            " 'terminator' 'terms' 'test' 'texiera' 'texture' 'than' 'that' 'the'\n",
            " 'their' 'them' 'then' 'there' 'thereof' 'these' 'they' 'things' 'think'\n",
            " 'this' 'those' 'thought' 'thousands' 'through' 'thus' 'tiff' 'time'\n",
            " 'times' 'tips' 'to' 'today' 'tom' 'too' 'took' 'tool' 'tools' 'top'\n",
            " 'touch' 'traditional' 'trends' 'trent' 'trident' 'true' 'tseng' 'tully'\n",
            " 'tweaked' 'tweaking' 'types' 'ultra' 'unc' 'under' 'understanding'\n",
            " 'unfortunate' 'uniprocessor' 'unique' 'unix' 'unlimited' 'until' 'up'\n",
            " 'upon' 'use' 'used' 'user' 'uses' 'using' 'usual' 'utility' 'variety'\n",
            " 'vector' 'verbrugge' 'version' 'vertices' 'very' 'vesa' 'vga' 'video'\n",
            " 'view' 'viewing' 'virtual' 'visible' 'visual' 'visualization' 'vlb'\n",
            " 'volunteer' 'vr' 'want' 'wanting' 'was' 'way' 'we' 'web' 'were' 'what'\n",
            " 'when' 'where' 'whether' 'which' 'while' 'whitespace' 'who' 'why' 'will'\n",
            " 'windows' 'with' 'word' 'work' 'workflow' 'world' 'worldtoolkit' 'would'\n",
            " 'write' 'written' 'wrong' 'xvga' 'years' 'you' 'your']\n",
            "TF-IDF: ['abc' 'ability' 'able' 'about' 'above' 'abstract' 'accelerated' 'access'\n",
            " 'according' 'accurate' 'acheive' 'actual' 'actually' 'add' 'addresses'\n",
            " 'admit' 'adobe' 'ads' 'advanced' 'after' 'agency' 'ago' 'agrees' 'ahead'\n",
            " 'albeit' 'aliased' 'all' 'allen' 'almost' 'aload' 'also' 'am' 'amro'\n",
            " 'amusement' 'an' 'and' 'animation' 'another' 'answer' 'ant' 'any'\n",
            " 'anybody' 'anyone' 'anywhere' 'apart' 'app' 'apple' 'application'\n",
            " 'applications' 'apply' 'are' 'around' 'array' 'art' 'article'\n",
            " 'artificial' 'as' 'at' 'ati' 'audioworks' 'available' 'bad' 'balance'\n",
            " 'be' 'beautiful' 'because' 'become' 'been' 'begin' 'behind' 'being'\n",
            " 'best' 'between' 'beyond' 'bgi' 'biggest' 'bit' 'blits' 'bold' 'bolts'\n",
            " 'books' 'boom' 'both' 'bothered' 'brand' 'break' 'bring' 'brush'\n",
            " 'brushes' 'buggy' 'build' 'built' 'bundle' 'bus' 'but' 'buy' 'by'\n",
            " 'bypassing' 'bytes' 'ca' 'call' 'called' 'can' 'canada' 'cannot' 'canvas'\n",
            " 'card' 'cards' 'careers' 'carmack' 'carolina' 'cc' 'certainly'\n",
            " 'challenge' 'changed' 'changer' 'changes' 'chapel' 'check' 'chinnick'\n",
            " 'chips' 'choosing' 'chosen' 'chris' 'christopher' 'clark' 'class' 'close'\n",
            " 'closepath' 'collected' 'collection' 'color' 'colors' 'colour' 'colours'\n",
            " 'come' 'comes' 'command' 'comments' 'common' 'companies' 'complained'\n",
            " 'complete' 'completely' 'complex' 'comprehensive' 'computer' 'constant'\n",
            " 'contact' 'containing' 'contractors' 'converted' 'cool' 'core' 'corp'\n",
            " 'could' 'couple' 'course' 'coworkers' 'crash' 'crawling' 'create'\n",
            " 'creative' 'cricket' 'crimson' 'critique' 'crowe' 'currently' 'curve'\n",
            " 'customizable' 'cyberglove' 'dahlgren' 'data' 'databases' 'dave' 'decent'\n",
            " 'define' 'definite' 'depends' 'design' 'designed' 'designers' 'designing'\n",
            " 'detailed' 'develop' 'device' 'devices' 'did' 'digital' 'direction'\n",
            " 'directly' 'display' 'displays' 'distracted' 'distraction' 'division'\n",
            " 'do' 'does' 'dominated' 'dominic' 'down' 'download' 'drawing' 'drawings'\n",
            " 'draws' 'driver' 'drivers' 'due' 'duff' 'dup' 'duplicate' 'dvs' 'each'\n",
            " 'ease' 'easier' 'edges' 'edit' 'editing' 'effects' 'efficient' 'eisa'\n",
            " 'either' 'electro' 'elements' 'else' 'email' 'embeded' 'enjoy' 'enough'\n",
            " 'entertainment' 'envato' 'environments' 'even' 'every' 'everything'\n",
            " 'examination' 'except' 'executes' 'expect' 'experience' 'experimenting'\n",
            " 'experts' 'export' 'express' 'eye' 'fake' 'familiar' 'fast' 'faulty'\n",
            " 'feature' 'feel' 'few' 'file' 'fills' 'film' 'films' 'filter' 'find'\n",
            " 'first' 'five' 'flat' 'flight' 'flyers' 'focusing' 'follow' 'for'\n",
            " 'forall' 'fortunately' 'found' 'frame' 'frames' 'free' 'from' 'fully'\n",
            " 'fun' 'fundamentally' 'futuristic' 'game' 'gemini' 'general' 'generic'\n",
            " 'geometric' 'get' 'getinterval' 'give' 'given' 'gives' 'giving' 'going'\n",
            " 'good' 'got' 'graphic' 'graphics' 'great' 'gripe' 'growing' 'guide' 'gvs'\n",
            " 'had' 'handle' 'hands' 'happy' 'hard' 'harvard' 'has' 'have' 'having'\n",
            " 'head' 'hear' 'heard' 'heavily' 'helmet' 'help' 'here' 'high' 'hill'\n",
            " 'hitchhikers' 'hollywood' 'home' 'hours' 'how' 'hp' 'huge' 'humor' 'ibm'\n",
            " 'ideally' 'ideas' 'if' 'ifelse' 'illustration' 'illustrator' 'image'\n",
            " 'images' 'imagine' 'immersed' 'immersive' 'important' 'in' 'include'\n",
            " 'includes' 'incredible' 'indigo' 'ineofill' 'infuriates' 'inside'\n",
            " 'interactive' 'interest' 'interface' 'interfaces' 'interlaced'\n",
            " 'interleaf' 'intersection' 'into' 'introduction' 'ipad' 'iris' 'is' 'isa'\n",
            " 'isbn' 'it' 'its' 'jagged' 'john' 'josh' 'joshua' 'journey' 'just'\n",
            " 'kaiser' 'keep' 'ken' 'kernel' 'kind' 'know' 'kreuger' 'kubota' 'labs'\n",
            " 'lai' 'language' 'languages' 'last' 'lawnmower' 'layer' 'leading' 'learn'\n",
            " 'learning' 'least' 'length' 'let' 'letters' 'level' 'libraries' 'library'\n",
            " 'light' 'like' 'likely' 'line' 'lineto' 'list' 'listed' 'little' 'live'\n",
            " 'local' 'lot' 'love' 'low' 'lucrative' 'machines' 'made' 'magazine'\n",
            " 'maintain' 'make' 'makes' 'making' 'manager' 'many' 'map' 'mapping'\n",
            " 'market' 'massive' 'master' 'match' 'mcconnell' 'me' 'mean' 'meaningless'\n",
            " 'medium' 'might' 'mirage' 'missed' 'mix' 'mode' 'modeled' 'modeling'\n",
            " 'modelling' 'modern' 'modified' 'mogal' 'monitor' 'monthly' 'more' 'most'\n",
            " 'motion' 'mountain' 'move' 'moveto' 'movies' 'mtd' 'much'\n",
            " 'multiprocessor' 'must' 'my' 'myron' 'name' 'naval' 'nc' 'need' 'needs'\n",
            " 'new' 'newly' 'news' 'newsgroup' 'next' 'nice' 'no' 'nobody' 'none'\n",
            " 'normally' 'north' 'not' 'noticed' 'notices' 'now' 'npsnet' 'number'\n",
            " 'numbers' 'nuts' 'obtain' 'of' 'off' 'on' 'one' 'ones' 'online' 'only'\n",
            " 'onyx' 'operation' 'optics' 'options' 'or' 'order' 'original' 'other'\n",
            " 'our' 'out' 'outlined' 'output' 'over' 'overuse' 'own' 'pacific'\n",
            " 'packages' 'page' 'pages' 'paid' 'paint' 'paper' 'paradigm' 'parallel'\n",
            " 'part' 'particular' 'particularly' 'past' 'pencil' 'people' 'per'\n",
            " 'perfect' 'performer' 'performing' 'perhaps' 'phil' 'philip'\n",
            " 'philosophical' 'phone' 'phong' 'photoshop' 'picked' 'piece' 'pilot'\n",
            " 'pimental' 'pitch' 'playing' 'plot' 'plus' 'point' 'polygon' 'polygons'\n",
            " 'pop' 'popular' 'portfolio' 'postgraduate' 'postscript' 'powerful'\n",
            " 'powerpoint' 'practical' 'presentation' 'presentations' 'press'\n",
            " 'pressure' 'pretty' 'previous' 'print' 'printed' 'prints' 'pro'\n",
            " 'probably' 'problem' 'problems' 'procedural' 'process' 'processing'\n",
            " 'procreate' 'product' 'productivity' 'professional' 'professionals'\n",
            " 'program' 'programming' 'projects' 'provides' 'purpose' 'put' 'quality'\n",
            " 'quick' 'radiosity' 'rapidly' 'rarely' 'rate' 'rates' 'rather' 'reaction'\n",
            " 'read' 'readers' 'reading' 'ready' 'real' 'realistic' 'reality'\n",
            " 'realityengine' 'really' 'reasons' 'received' 'recent' 'recommed'\n",
            " 'reduced' 'refresh' 'regulars' 'relevant' 'render' 'rendered' 'rendering'\n",
            " 'renders' 'replace' 'replacing' 'require' 'requirement' 'requirements'\n",
            " 'requires' 'research' 'resolution' 'responds' 'result' 'right' 'robust'\n",
            " 'roll' 'routines' 'rules' 'run' 'running' 'sale' 'same' 'save' 'scale'\n",
            " 'scene' 'school' 'second' 'seemed' 'send' 'sense' 'series' 'serious'\n",
            " 'set' 'sets' 'sgi' 'shading' 'shelf' 'shift' 'shoreline' 'should'\n",
            " 'silicon' 'sim' 'simation' 'similar' 'simon' 'simpler' 'simulation'\n",
            " 'simulators' 'sites' 'skills' 'sleek' 'slides' 'small' 'smooth' 'so'\n",
            " 'software' 'solved' 'some' 'something' 'sorry' 'sound' 'sources' 'space'\n",
            " 'spec' 'special' 'specify' 'speed' 'spot' 'start' 'started' 'starting'\n",
            " 'starts' 'static' 'stay' 'step' 'stepping' 'still' 'streamline' 'styles'\n",
            " 'stylize' 'sub' 'successfully' 'suite' 'suited' 'sun' 'super' 'support'\n",
            " 'sure' 'surface' 'sustain' 'svga' 'symmetric' 'system' 'systems' 'tactic'\n",
            " 'takes' 'taking' 'tap' 'targeted' 'teach' 'team' 'technique' 'techniques'\n",
            " 'technologies' 'technology' 'template' 'templates' 'terminater'\n",
            " 'terminator' 'terms' 'test' 'texiera' 'texture' 'than' 'that' 'the'\n",
            " 'their' 'them' 'then' 'there' 'thereof' 'these' 'they' 'things' 'think'\n",
            " 'this' 'those' 'thought' 'thousands' 'through' 'thus' 'tiff' 'time'\n",
            " 'times' 'tips' 'to' 'today' 'tom' 'too' 'took' 'tool' 'tools' 'top'\n",
            " 'touch' 'traditional' 'trends' 'trent' 'trident' 'true' 'tseng' 'tully'\n",
            " 'tweaked' 'tweaking' 'types' 'ultra' 'unc' 'under' 'understanding'\n",
            " 'unfortunate' 'uniprocessor' 'unique' 'unix' 'unlimited' 'until' 'up'\n",
            " 'upon' 'use' 'used' 'user' 'uses' 'using' 'usual' 'utility' 'variety'\n",
            " 'vector' 'verbrugge' 'version' 'vertices' 'very' 'vesa' 'vga' 'video'\n",
            " 'view' 'viewing' 'virtual' 'visible' 'visual' 'visualization' 'vlb'\n",
            " 'volunteer' 'vr' 'want' 'wanting' 'was' 'way' 'we' 'web' 'were' 'what'\n",
            " 'when' 'where' 'whether' 'which' 'while' 'whitespace' 'who' 'why' 'will'\n",
            " 'windows' 'with' 'word' 'work' 'workflow' 'world' 'worldtoolkit' 'would'\n",
            " 'write' 'written' 'wrong' 'xvga' 'years' 'you' 'your']\n"
          ]
        }
      ]
    },
    {
      "cell_type": "code",
      "source": [
        "import numpy as np\n",
        "\n",
        "def create_bow(corpus):\n",
        "    unique_words = list(set(word for sentence in corpus for word in sentence.split()))\n",
        "    bow_matrix = np.zeros((len(corpus), len(unique_words)))\n",
        "\n",
        "    for i, sentence in enumerate(corpus):\n",
        "        for word in sentence.split():\n",
        "            bow_matrix[i, unique_words.index(word)] += 1\n",
        "\n",
        "    return bow_matrix, unique_words\n",
        "\n",
        "corpus = alpha_corpus\n",
        "\n",
        "\n",
        "X_bow, unique_words = create_bow(corpus)\n",
        "\n",
        "print(\"Bag-of-Words Feature Matrix:\")\n",
        "print(X_bow)\n",
        "print(\"\\nUnique Words:\", unique_words)\n"
      ],
      "metadata": {
        "colab": {
          "base_uri": "https://localhost:8080/"
        },
        "id": "WfrVVGPBcYPu",
        "outputId": "66959a52-4cce-4594-8048-8717f92eb19f"
      },
      "execution_count": null,
      "outputs": [
        {
          "output_type": "stream",
          "name": "stdout",
          "text": [
            "Bag-of-Words Feature Matrix:\n",
            "[[0. 0. 0. ... 0. 0. 0.]\n",
            " [0. 1. 2. ... 0. 1. 4.]\n",
            " [1. 0. 0. ... 0. 2. 0.]\n",
            " ...\n",
            " [0. 0. 0. ... 0. 0. 0.]\n",
            " [0. 0. 0. ... 0. 0. 0.]\n",
            " [0. 0. 0. ... 0. 0. 0.]]\n",
            "\n",
            "Unique Words: ['length', 'hp', 'due', 'constant', 'monthly', 'humor', 'game', 'like', 'pages', 'addresses', 'same', 'coworkers', 'except', 'tools', 'fully', 'make', 'interlaced', 'hill', 'develop', 'displays', 'whether', 'local', 'using', 'comments', 'distraction', 'currently', 'until', 'include', 'corp', 'making', 'simpler', 'step', 'kubota', 'so', 'graphic', 'ago', 'abstract', 'philip', 'canada', 'recommed', 'require', 'reading', 'wanting', 'phong', 'tom', 'online', 'immersed', 'apply', 'monitor', 'very', 'line', 'environments', 'streamline', 'sleek', 'curve', 'still', 'graphics', 'contact', 'press', 'anywhere', 'these', 'feel', 'ideas', 'carmack', 'i', 'critique', 'flyers', 'buggy', 'cards', 'packages', 'dominic', 'newly', 'onyx', 'video', 'art', 'being', 'going', 'techniques', 'robust', 'five', 'cool', 'were', 'sale', 'hands', 'direction', 'one', 'now', 'drivers', 'eye', 'blits', 'efficient', 'cricket', 'options', 'maintain', 'become', 'ati', 'hitchhikers', 'first', 'light', 'hollywood', 'forall', 'resolution', 'each', 'cc', 'add', 'collection', 'send', 'sources', 'head', 'we', 'reasons', 'any', 'true', 'rapidly', 'movies', 'support', 'realityengine', 'interfaces', 'begin', 'chris', 'received', 'running', 'practical', 'unique', 'be', 'chinnick', 'check', 'must', 'core', 'pencil', 'bus', 'responds', 'quick', 'few', 'to', 'renders', 'worldtoolkit', 'second', 'my', 'isbn', 'an', 'applications', 'brush', 'just', 'pretty', 'processing', 'another', 'vga', 'piece', 'on', 'too', 'ideally', 'provides', 'can', 'experience', 'crowe', 'break', 'mean', 'what', 'behind', 'everything', 'whitespace', 'user', 'their', 'skills', 'really', 'changes', 'will', 'guide', 'mogal', 'bolts', 'general', 'wrong', 'windows', 'amro', 'takes', 'realistic', 'download', 'put', 'buy', 'ultra', 'john', 'almost', 'noticed', 'designed', 'or', 'of', 'newsgroup', 'bad', 'which', 'tap', 'pilot', 'shoreline', 'export', 'way', 'would', 'examination', 'those', 'dahlgren', 'course', 'stay', 'above', 'all', 'pacific', 'playing', 'machines', 'xvga', 'teach', 'journey', 'generic', 'depends', 'suite', 'many', 'through', 'sun', 'thought', 'paid', 'technologies', 'successfully', 'books', 'replace', 'pro', 'bold', 'moveto', 'sim', 'device', 'special', 'system', 'clark', 'am', 'specify', 'given', 'accurate', 'between', 'the', 'inside', 'create', 'expect', 'jagged', 'ifelse', 'drawings', 'world', 'picked', 'crimson', 'particularly', 'me', 'who', 'close', 'touch', 'presentation', 'isa', 'actually', 'canvas', 'into', 'makes', 'frames', 'virtual', 'terminator', 'beyond', 'intersection', 'it', 'had', 'version', 'other', 'relevant', 'live', 'admit', 'fundamentally', 'huge', 'surface', 'audioworks', 'tully', 'chapel', 'nobody', 'heavily', 'enough', 'polygons', 'vlb', 'both', 'about', 'enjoy', 'little', 'down', 'colour', 'systems', 'how', 'acheive', 'process', 'agency', 'your', 'targeted', 'drawing', 'sustain', 'bring', 'layer', 'numbers', 'vesa', 'last', 'apart', 'was', 'volunteer', 'detailed', 'come', 'types', 'things', 'tactic', 'ones', 'lai', 'ahead', 'indigo', 'geometric', 'used', 'sorry', 'thus', 'find', 'apple', 'giving', 'futuristic', 'terms', 'because', 'tweaked', 'collected', 'data', 'reality', 'solved', 'b', 'card', 'suited', 'christopher', 'anybody', 'libraries', 'master', 'home', 'division', 'set', 'radiosity', 'sound', 'productivity', 'modern', 'learn', 'some', 'sgi', 'have', 'fun', 'small', 'rarely', 'rather', 'silicon', 'right', 'interactive', 'bgi', 'getinterval', 'view', 'original', 'get', 'has', 'manager', 'imagine', 'mcconnell', 'around', 'images', 'free', 'keep', 'brushes', 'did', 'starting', 'couple', 'phone', 'great', 'school', 'built', 'need', 'elements', 'upon', 'sure', 'at', 'pop', 'not', 'sub', 'designers', 'readers', 'beautiful', 'test', 'no', 'converted', 'viewing', 'none', 'paradigm', 'directly', 'program', 'ease', 'lawnmower', 'roll', 'up', 'professionals', 'tips', 'changer', 'multiprocessor', 'more', 'careers', 'as', 'colors', 'run', 'problem', 'handle', 'even', 'templates', 'ipad', 'paper', 'dominated', 'harvard', 'aload', 'immersive', 'taking', 'complained', 'interleaf', 'electro', 'refresh', 'modeling', 'performer', 'rendered', 'technique', 'north', 'frame', 'outlined', 'available', 'unfortunate', 'its', 'stylize', 'best', 'tool', 'technology', 'most', 'modeled', 'lucrative', 'ca', 'verbrugge', 'perfect', 'pressure', 'brand', 'aliased', 'comes', 'programming', 'library', 'only', 'heard', 'common', 'chips', 'agrees', 'obtain', 'team', 'feature', 'definite', 'over', 'focusing', 'write', 'express', 'boom', 'while', 'they', 'databases', 'number', 'nice', 'requirements', 'with', 'meaningless', 'than', 'duplicate', 'move', 'vr', 'overuse', 'changed', 'professional', 'filter', 'stepping', 'tweaking', 'editing', 'command', 'today', 'dave', 'plot', 'spot', 'shading', 'do', 'space', 'listed', 'visualization', 'terminater', 'problems', 'ability', 'kind', 'give', 'product', 'should', 'word', 'top', 'result', 'digital', 'film', 'devices', 'rules', 'time', 'visual', 'static', 'could', 'cyberglove', 'gemini', 'bit', 'illustration', 'page', 'bytes', 'photoshop', 'here', 'that', 'labs', 'massive', 'but', 'work', 'know', 'market', 'nc', 'color', 'own', 'decent', 'where', 'understanding', 'dvs', 'requirement', 'there', 'mtd', 'tiff', 'uses', 'easier', 'distracted', 'notices', 'fake', 'mapping', 'mirage', 'unlimited', 'bypassing', 'shelf', 'simulation', 'ads', 'trident', 'out', 'traditional', 'name', 'good', 'trends', 'language', 'serious', 'every', 'times', 'answer', 'includes', 'flight', 'naval', 'introduction', 'display', 'powerful', 'powerpoint', 'draws', 'purpose', 'least', 'gvs', 'reduced', 'took', 'software', 'also', 'want', 'sets', 'myron', 'image', 'pimental', 'prints', 'crash', 'missed', 'slides', 'requires', 'rate', 'call', 'having', 'driver', 'much', 'them', 'hard', 'web', 'probably', 'ant', 'projects', 'learning', 'albeit', 'you', 'procedural', 'gripe', 'ineofill', 'plus', 'our', 'iris', 'according', 'started', 'optics', 'phil', 'designing', 'medium', 'are', 'particular', 'unc', 'envato', 'off', 'josh', 'if', 'is', 'replacing', 'npsnet', 'happy', 'familiar', 'contractors', 'scale', 'found', 'flat', 'texture', 'super', 'pitch', 'certainly', 'experimenting', 'chosen', 'nuts', 'carolina', 'perhaps', 'save', 'vector', 'array', 'something', 'uniprocessor', 'biggest', 'usual', 'portfolio', 'next', 'design', 'magazine', 'rates', 'list', 'does', 'procreate', 'mountain', 'l', 'why', 'point', 'regulars', 'actual', 'films', 'animation', 'interest', 'hear', 'render', 'match', 'leading', 'follow', 'effects', 'and', 'crawling', 'choosing', 'thereof', 'kreuger', 'paint', 'help', 'simation', 'kaiser', 'news', 'starts', 'speed', 'let', 'spec', 'containing', 'duff', 'real', 'simulators', 'trent', 'completely', 'adobe', 'file', 'printed', 'allen', 'polygon', 'computer', 'postgraduate', 'use', 'people', 'output', 'closepath', 'template', 'smooth', 'order', 'edit', 'variety', 'comprehensive', 'previous', 'infuriates', 'helmet', 'vertices', 'part', 'ken', 'written', 'eisa', 'artificial', 'lineto', 'needs', 'fast', 'abc', 'then', 'made', 'complex', 'this', 'embeded', 'quality', 'languages', 'start', 'complete', 'amusement', 'application', 'companies', 'cannot', 'ready', 'define', 'per', 'by', 'mix', 'access', 'incredible', 'recent', 'normally', 'scene', 'after', 'bothered', 'modelling', 'important', 'growing', 'anyone', 'parallel', 'likely', 'letters', 'faulty', 'read', 'email', 'in', 'else', 'able', 'low', 'mode', 'sense', 'dup', 'lot', 'symmetric', 'unix', 'series', 'either', 'svga', 'map', 'challenge', 'advanced', 'past', 'visible', 'got', 'years', 'ibm', 'hours', 'for', 'app', 'simon', 'operation', 'popular', 'reaction', 'fills', 'thousands', 'called', 'research', 'entertainment', 'from', 'print', 'article', 'joshua', 'love', 'executes', 'workflow', 'philosophical', 'motion', 'fortunately', 'colours', 'bundle', 'modified', 'kernel', 'build', 'class', 'postscript', 'sites', 'a', 'high', 'when', 'texiera', 'routines', 'new', 'think', 'accelerated', 'seemed', 'performing', 'might', 'customizable', 'similar', 'balance', 'gives', 'tseng', 'utility', 'shift', 'presentations', 'styles', 'interface', 'experts', 'edges', 'illustrator', 'been', 'under', 'creative', 'level', 'rendering']\n"
          ]
        }
      ]
    },
    {
      "cell_type": "code",
      "source": [
        "def calculate_tf(word, sentence):\n",
        "    return sentence.split().count(word) / len(sentence.split())\n",
        "\n",
        "def calculate_idf(word, corpus):\n",
        "    num_documents_with_word = sum(1 for doc in corpus if word in doc.split())\n",
        "    return np.log(len(corpus) / (1 + num_documents_with_word))\n",
        "\n",
        "def create_tfidf(corpus):\n",
        "    unique_words = list(set(word for sentence in corpus for word in sentence.split()))\n",
        "    tfidf_matrix = np.zeros((len(corpus), len(unique_words)))\n",
        "\n",
        "    for i, sentence in enumerate(corpus):\n",
        "        for j, word in enumerate(unique_words):\n",
        "            tf = calculate_tf(word, sentence)\n",
        "            idf = calculate_idf(word, corpus)\n",
        "            tfidf_matrix[i, j] = tf * idf\n",
        "\n",
        "    return tfidf_matrix, unique_words\n",
        "\n",
        "X_tfidf, unique_words_tfidf = create_tfidf(corpus)\n",
        "\n",
        "print(\"\\nTF-IDF Feature Matrix:\")\n",
        "print(X_tfidf)\n",
        "print(\"\\nUnique Words for TF-IDF:\", unique_words_tfidf)\n"
      ],
      "metadata": {
        "colab": {
          "base_uri": "https://localhost:8080/"
        },
        "id": "26O4xBzLcYXg",
        "outputId": "52c188e4-2008-4741-b5da-80cc83f43acc"
      },
      "execution_count": null,
      "outputs": [
        {
          "output_type": "stream",
          "name": "stdout",
          "text": [
            "\n",
            "TF-IDF Feature Matrix:\n",
            "[[ 0.         -0.04462871  0.          0.05753641  0.          0.\n",
            "   0.          0.          0.          0.          0.05753641  0.\n",
            "   0.05753641]\n",
            " [ 0.         -0.03719059  0.          0.          0.          0.\n",
            "   0.11552453  0.11552453  0.          0.          0.04794701  0.\n",
            "   0.04794701]\n",
            " [ 0.         -0.03719059  0.04794701  0.          0.          0.11552453\n",
            "   0.          0.          0.11552453  0.11552453  0.          0.\n",
            "   0.        ]\n",
            " [ 0.13862944 -0.04462871  0.05753641  0.05753641  0.13862944  0.\n",
            "   0.          0.          0.          0.          0.          0.\n",
            "   0.        ]]\n",
            "\n",
            "Unique Words for TF-IDF: ['Is', 'the', 'this', 'first', 'document?', 'And', 'second', 'document', 'one.', 'third', 'document.', 'is', 'This']\n"
          ]
        }
      ]
    },
    {
      "cell_type": "markdown",
      "source": [
        "# ***Without using in-built functions***"
      ],
      "metadata": {
        "id": "ge0mKZt_nReB"
      }
    },
    {
      "cell_type": "code",
      "source": [
        "import re\n",
        "import math\n",
        "from collections import Counter\n",
        "\n",
        "def preprocess_text(text):\n",
        "\n",
        "    clean_text = re.sub('<.*?>', '', text)\n",
        "\n",
        "    clean_text = re.sub(r'[^a-zA-Z0-9\\s]', '', clean_text.lower())\n",
        "    return clean_text\n",
        "\n",
        "def tokenize(text):\n",
        "\n",
        "    return text.split()\n",
        "\n",
        "def create_bow(corpus):\n",
        "\n",
        "    bow_matrix = []\n",
        "\n",
        "    for document in corpus:\n",
        "\n",
        "        preprocessed_doc = preprocess_text(document)\n",
        "\n",
        "        tokens = tokenize(preprocessed_doc)\n",
        "\n",
        "        document_bow = Counter(tokens)\n",
        "\n",
        "        bow_matrix.append(document_bow)\n",
        "\n",
        "    return bow_matrix\n",
        "\n",
        "def calculate_tf(term, document):\n",
        "\n",
        "    term_count = document[term]\n",
        "    total_terms = sum(document.values())\n",
        "    return term_count / total_terms\n",
        "\n",
        "def create_tf_idf(corpus, bow_matrix):\n",
        "\n",
        "    idf_values = {}\n",
        "    num_documents = len(corpus)\n",
        "\n",
        "    for document_bow in bow_matrix:\n",
        "        for term in document_bow:\n",
        "            idf_values[term] = idf_values.get(term, 0) + 1\n",
        "\n",
        "    for term, idf in idf_values.items():\n",
        "        idf_values[term] = math.log(num_documents / (1 + idf))\n",
        "\n",
        "\n",
        "    tf_idf_matrix = []\n",
        "\n",
        "    for document_bow in bow_matrix:\n",
        "        tf_idf_vector = {}\n",
        "\n",
        "        for term in document_bow:\n",
        "            tf = calculate_tf(term, document_bow)\n",
        "            idf = idf_values[term]\n",
        "            tf_idf_vector[term] = tf * idf\n",
        "\n",
        "        tf_idf_matrix.append(tf_idf_vector)\n",
        "\n",
        "    return tf_idf_matrix\n",
        "\n",
        "corpus = alpha_corpus\n",
        "\n",
        "bow_matrix = create_bow(corpus)\n",
        "\n",
        "\n",
        "print(\"Bag-of-Words Matrix:\")\n",
        "for i, document_bow in enumerate(bow_matrix):\n",
        "    print(f\"Document {i+1}: {document_bow}\")\n",
        "\n",
        "tf_idf_matrix = create_tf_idf(corpus, bow_matrix)\n",
        "\n",
        "print(\"\\nTF-IDF Matrix:\")\n",
        "for i, tf_idf_vector in enumerate(tf_idf_matrix):\n",
        "    print(f\"Document {i+1}: {tf_idf_vector}\")\n"
      ],
      "metadata": {
        "colab": {
          "base_uri": "https://localhost:8080/"
        },
        "id": "EleUwdvBnJyF",
        "outputId": "66f506f8-6ceb-4cf5-8293-d8c97576850e"
      },
      "execution_count": null,
      "outputs": [
        {
          "output_type": "stream",
          "name": "stdout",
          "text": [
            "Bag-of-Words Matrix:\n",
            "Document 1: Counter({'the': 7, 'design': 6, 'to': 5, 'graphic': 4, 'a': 4, 'for': 3, 'have': 3, 'and': 3, 'of': 3, 'trends': 2, 'beyond': 2, 'few': 2, 'years': 2, 'in': 2, 'by': 2, 'is': 2, 'going': 2, 'lot': 2, 'more': 2, 'this': 2, 'just': 2, 'biggest': 1, 'as': 1, 'you': 1, 'probably': 1, 'past': 1, 'been': 1, 'dominated': 1, 'bold': 1, 'futuristic': 1, 'but': 1, 'world': 1, 'feel': 1, 'except': 1, 'those': 1, 'are': 1, 'get': 1, 'abstract': 1, 'shift': 1, 'likely': 1, 'reaction': 1, 'overuse': 1, 'some': 1, 'previous': 1, 'styles': 1, 'that': 1, 'were': 1, 'very': 1, 'unique': 1, 'ago': 1, 'become': 1, 'another': 1, 'common': 1, 'tactic': 1, 'used': 1, 'massive': 1, 'so': 1, 'stay': 1, 'ahead': 1, 'be': 1, 'sure': 1, 'check': 1, 'out': 1})\n",
            "Document 2: Counter({'the': 37, 'to': 19, 'graphics': 14, 'of': 14, 'and': 13, 'are': 11, 'virtual': 10, 'a': 10, 'in': 9, 'systems': 9, 'not': 8, 'vr': 8, 'for': 7, 'is': 7, 'frame': 6, 'support': 6, 'reality': 5, 'we': 5, 'at': 5, 'be': 5, 'frames': 5, 'what': 5, 'you': 4, 'silicon': 4, 'can': 4, 'know': 4, 'about': 4, 'computer': 4, 'software': 4, 'on': 4, 'per': 4, 'advanced': 4, 'rendering': 4, 'unix': 4, 'but': 4, 'i': 3, 'market': 3, 'manager': 3, 'so': 3, 'from': 3, 'those': 3, 'that': 3, 'if': 3, 'complex': 3, 'their': 3, 'system': 3, 'must': 3, 'get': 3, 'general': 3, 'or': 3, 'there': 3, 'some': 3, 'was': 2, 'out': 2, 'real': 2, 'our': 2, 'much': 2, 'all': 2, 'while': 2, 'used': 2, 'rendered': 2, 'more': 2, 'how': 2, 'application': 2, 'requires': 2, 'flight': 2, 'rate': 2, 'too': 2, 'user': 2, 'as': 2, 'head': 2, 'second': 2, 'due': 2, 'being': 2, 'than': 2, 'able': 2, 'uniprocessor': 2, 'operation': 2, 'series': 2, 'like': 2, 'only': 2, 'onyx': 2, 'purpose': 2, 'division': 2, 'boom': 2, 'list': 2, 'helmet': 2, 'phone': 2, 'ken': 2, 'sorry': 1, 'missed': 1, 'just': 1, 'dahlgren': 1, 'last': 1, 'perhaps': 1, 'help': 1, 'article': 1, 'agency': 1, 'started': 1, 'express': 1, 'interest': 1, 'do': 1, 'hollywood': 1, 'movies': 1, 'terminater': 1, 'also': 1, 'something': 1, 'abc': 1, 'news': 1, 'magazine': 1, 'world': 1, 'sgi': 1, 'were': 1, 'create': 1, 'special': 1, 'effects': 1, 'both': 1, 'terminator': 1, 'lawnmower': 1, 'written': 1, 'film': 1, 'each': 1, 'animation': 1, 'films': 1, 'took': 1, 'hours': 1, 'render': 1, 'parallel': 1, 'processing': 1, 'level': 1, 'would': 1, 'acheive': 1, 'time': 1, 'certainly': 1, 'want': 1, 'who': 1, 'leading': 1, 'machines': 1, 'it': 1, 'depends': 1, 'upon': 1, 'serious': 1, 'your': 1, 'true': 1, 'immersive': 1, 'visualization': 1, 'visual': 1, 'databases': 1, 'anywhere': 1, 'newly': 1, 'this': 1, 'similar': 1, 'requirement': 1, 'traditional': 1, 'simulators': 1, 'pilot': 1, 'notices': 1, 'stepping': 1, 'they': 1, 'move': 1, 'rapidly': 1, 'around': 1, 'motion': 1, 'smooth': 1, 'thus': 1, 'powerful': 1, 'enough': 1, 'sustain': 1, 'high': 1, 'rates': 1, 'data': 1, 'renders': 1, 'one': 1, 'then': 1, 'next': 1, 'scene': 1, 'new': 1, 'viewing': 1, 'direction': 1, 'simpler': 1, 'visible': 1, 'heavily': 1, 'distracted': 1, 'by': 1, 'medium': 1, 'rather': 1, 'focusing': 1, 'maintain': 1, 'constant': 1, 'run': 1, 'does': 1, 'has': 1, 'modified': 1, 'kernel': 1, 'its': 1, 'bypassing': 1, 'usual': 1, 'process': 1, 'running': 1, 'cannot': 1, 'fundamentally': 1, 'sun': 1, 'hp': 1, 'ibm': 1, 'even': 1, 'indigo': 1, 'multiprocessor': 1, 'challenge': 1, 'symmetric': 1, 'environments': 1, 'techniques': 1, 'texture': 1, 'mapping': 1, 'crimson': 1, 'realityengine': 1, 'fully': 1, 'these': 1, 'particularly': 1, 'crawling': 1, 'jagged': 1, 'edges': 1, 'aliased': 1, 'polygons': 1, 'an': 1, 'unfortunate': 1, 'distraction': 1, 'when': 1, 'immersed': 1, 'kind': 1, 'languages': 1, 'with': 1, 'use': 1, 'libraries': 1, 'listed': 1, 'above': 1, 'develop': 1, 'starting': 1, 'pretty': 1, 'low': 1, 'shelf': 1, 'packages': 1, 'available': 1, 'going': 1, 'targeted': 1, 'directly': 1, 'most': 1, 'popular': 1, 'no': 1, 'particular': 1, 'dvs': 1, 'worldtoolkit': 1, 'naval': 1, 'postgraduate': 1, 'school': 1, 'npsnet': 1, 'gemini': 1, 'technology': 1, 'corp': 1, 'gvs': 1, 'simation': 1, 'paradigm': 1, 'simulation': 1, 'audioworks': 1, 'iris': 1, 'performer': 1, 'off': 1, 'top': 1, 'my': 1, 'companies': 1, 'making': 1, 'interface': 1, 'devices': 1, 'many': 1, 'here': 1, 'fake': 1, 'space': 1, 'labs': 1, 'technologies': 1, 'cyberglove': 1, 'digital': 1, 'image': 1, 'design': 1, 'cricket': 1, 'kaiser': 1, 'electro': 1, 'optics': 1, 'sim': 1, 'eye': 1, 'displays': 1, 'research': 1, 'display': 1, 'mtd': 1, 'modeling': 1, 'addresses': 1, 'where': 1, 'name': 1, 'experts': 1, 'numbers': 1, 'email': 1, 'read': 1, 'books': 1, 'pimental': 1, 'texiera': 1, 'mirage': 1, 'artificial': 1, 'myron': 1, 'kreuger': 1, 'check': 1, 'newsgroup': 1, 'feel': 1, 'free': 1, 'contact': 1, 'me': 1, 'josh': 1, 'joshua': 1, 'mogal': 1, 'product': 1, 'north': 1, 'shoreline': 1, 'mountain': 1, 'ca': 1, 'interactive': 1, 'entertainment': 1})\n",
            "Document 3: Counter({'the': 14, 'a': 13, 'in': 8, 'and': 6, 'polygon': 6, 'of': 5, 'line': 4, 'by': 4, 'to': 4, 'point': 4, 'can': 3, 'program': 3, 'be': 3, 'dup': 3, 'called': 2, 'given': 2, 'l': 2, 'we': 2, 'that': 2, 'paper': 2, 'problem': 2, 'will': 2, 'test': 2, 'ineofill': 2, 'level': 2, 'if': 2, 'only': 2, 'aload': 2, 'pop': 2, 'article': 1, 'intersection': 1, 'between': 1, 'dave': 1, 'tom': 1, 'duff': 1, 'recent': 1, 'many': 1, 'geometric': 1, 'problems': 1, 'have': 1, 'been': 1, 'successfully': 1, 'modeled': 1, 'new': 1, 'language': 1, 'adobe': 1, 'systems': 1, 'isbn': 1, 'write': 1, 'postscript': 1, 'draws': 1, 'then': 1, 'mean': 1, 'executes': 1, 'command': 1, 'which': 1, 'actually': 1, 'prints': 1, 'page': 1, 'containing': 1, 'quick': 1, 'examination': 1, 'provides': 1, 'an': 1, 'answer': 1, 'reduced': 1, 'thus': 1, 'original': 1, 'modern': 1, 'solved': 1, 'even': 1, 'more': 1, 'allen': 1, 'b': 1, 'amusement': 1, 'regulars': 1, 'humor': 1, 'sense': 1, 'thereof': 1, 'this': 1, 'whether': 1, 'is': 1, 'inside': 1, 'currently': 1, 'it': 1, 'uses': 1, 'but': 1, 'changed': 1, 'replacing': 1, 'with': 1, 'these': 1, 'are': 1, 'so': 1, 'got': 1, 'out': 1, 'result': 1, 'printed': 1, 'on': 1, 'output': 1, 'accurate': 1, 'device': 1, 'put': 1, 'huge': 1, 'scale': 1, 'first': 1, 'you': 1, 'vertices': 1, 'order': 1, 'get': 1, 'moveto': 1, 'length': 1, 'roll': 1, 'sub': 1, 'getinterval': 1, 'lineto': 1, 'forall': 1, 'closepath': 1, 'ifelse': 1})\n",
            "Document 4: Counter({'to': 12, 'and': 10, 'the': 8, 'a': 6, 'design': 5, 'in': 5, 'on': 5, 'adobe': 4, 'projects': 4, 'you': 4, 'learn': 3, 'illustrator': 3, 'get': 3, 'with': 3, 'graphic': 3, 'from': 3, 'that': 3, 'bundle': 3, 'how': 3, 'your': 3, 'designers': 2, 'their': 2, 'of': 2, 'while': 2, 'cc': 2, 'master': 2, 'class': 2, 'can': 2, 'sale': 2, 'for': 2, 'complete': 2, 'started': 1, 'print': 1, 'video': 1, 'ads': 1, 'presentations': 1, 'pitch': 1, 'have': 1, 'hands': 1, 'huge': 1, 'array': 1, 'an': 1, 'some': 1, 'companies': 1, 'keep': 1, 'team': 1, 'many': 1, 'bring': 1, 'contractors': 1, 'handle': 1, 'either': 1, 'enjoy': 1, 'lucrative': 1, 'careers': 1, 'come': 1, 'constant': 1, 'creative': 1, 'sound': 1, 'teach': 1, 'tools': 1, 'need': 1, 'know': 1, 'under': 1, 'this': 1, 'takes': 1, 'comprehensive': 1, 'journey': 1, 'into': 1, 'one': 1, 'leading': 1, 'crash': 1, 'course': 1, 'understanding': 1, 'nuts': 1, 'bolts': 1, 'behind': 1, 'vector': 1, 'editing': 1, 'learning': 1, 'use': 1, 'core': 1, 'apply': 1, 'skills': 1, 'build': 1, 'user': 1, 'interfaces': 1, 'web': 1, 'pages': 1, 'like': 1, 'flyers': 1, 'static': 1, 'be': 1, 'able': 1, 'create': 1, 'actual': 1, 'include': 1, 'portfolio': 1, 'send': 1, 'advanced': 1, 'streamline': 1, 'productivity': 1, 'workflow': 1, 'complex': 1, 'ready': 1, 'way': 1, 'brand': 1, 'new': 1, 'normally': 1, 'is': 1, 'now': 1, 'just': 1})\n",
            "Document 5: Counter({'i': 18, 'the': 16, 'that': 12, 'card': 11, 'it': 10, 'at': 9, 'a': 8, 'but': 7, 'ati': 6, 'with': 6, 'has': 6, 'in': 5, 'have': 5, 'ultra': 5, 'to': 5, 'for': 5, 'this': 5, 'about': 3, 'graphics': 3, 'was': 3, 'and': 3, 'my': 3, 'is': 3, 'article': 2, 'bad': 2, 'plus': 2, 'its': 2, 'windows': 2, 'would': 2, 'like': 2, 'accelerated': 2, 'had': 2, 'so': 2, 'press': 2, 'pro': 2, 'eisa': 2, 'drivers': 2, 'now': 2, 'are': 2, 'build': 2, 'an': 2, 'does': 2, 'colour': 2, 'fast': 2, 'will': 2, 'be': 2, 'right': 2, 'up': 2, 'let': 2, 'you': 2, 'trent': 1, 'canada': 1, 'heard': 1, 'many': 1, 'things': 1, 'having': 1, 'do': 1, 'buggy': 1, 'replace': 1, 'by': 1, 'buy': 1, 'much': 1, 'am': 1, 'must': 1, 'admit': 1, 'received': 1, 'due': 1, 'faulty': 1, 'available': 1, 'version': 1, 'same': 1, 'ones': 1, 'as': 1, 'isa': 1, 'local': 1, 'bus': 1, 'some': 1, 'people': 1, 'complained': 1, 'problems': 1, 'they': 1, 'fortunately': 1, 'duplicate': 1, 'them': 1, 'on': 1, 'did': 1, 'one': 1, 'problem': 1, 'harvard': 1, 'nobody': 1, 'else': 1, 'seemed': 1, 'true': 1, 'least': 1, 'colours': 1, 'polygon': 1, 'fills': 1, 'bit': 1, 'blits': 1, 'robust': 1, 'driver': 1, 'high': 1, 'speed': 1, 'refresh': 1, 'recommed': 1, 'resolution': 1, 'display': 1, 'thought': 1, 'sound': 1, 'vlb': 1, 'pretty': 1, 'sure': 1, 'not': 1, 'interlaced': 1, 'work': 1, 'check': 1, 'know': 1, 'when': 1, 'set': 1, 'utility': 1, 'me': 1, 'specify': 1, 'noticed': 1, 'couple': 1, 'times': 1, 'put': 1, 'mode': 1, 'could': 1, 'wrong': 1, 'because': 1, 'very': 1, 'rarely': 1, 'use': 1, 'most': 1, 'of': 1, 'applications': 1, 'home': 1, 'what': 1, 'phil': 1, 'monitor': 1, 'only': 1, 'time': 1, 'get': 1, 'if': 1, 'come': 1, 'cards': 1, 'more': 1, 'suited': 1, 'your': 1, 'needs': 1, 'amro': 1, 'philip': 1, 'carmack': 1, 'kubota': 1, 'pacific': 1})\n",
            "Document 6: Counter({'the': 10, 'i': 7, 'to': 6, 'is': 5, 'that': 5, 'of': 5, 'tiff': 4, 'and': 4, 'for': 3, 'its': 3, 'a': 3, 'why': 3, 'so': 3, 'article': 2, 'chosen': 2, 'read': 2, 'actually': 2, 'they': 2, 'it': 2, 'not': 2, 'about': 2, 'think': 2, 'their': 2, 'but': 2, 'with': 2, 'or': 2, 'chapel': 2, 'in': 1, 'according': 1, 'has': 1, 'been': 1, 'philosophical': 1, 'last': 1, 'hitchhikers': 1, 'guide': 1, 'this': 1, 'how': 1, 'picked': 1, 'number': 1, 'sure': 1, 'am': 1, 'every': 1, 'time': 1, 'part': 1, 'infuriates': 1, 'none': 1, 'too': 1, 'happy': 1, 'spec': 1, 'because': 1, 'find': 1, 'bytes': 1, 'begin': 1, 'file': 1, 'meaningless': 1, 'just': 1, 'use': 1, 'letters': 1, 'should': 1, 'have': 1, 'bothered': 1, 'support': 1, 'both': 1, 'word': 1, 'found': 1, 'many': 1, 'readers': 1, 'up': 1, 'out': 1, 'gripe': 1, 'if': 1, 'important': 1, 'volunteer': 1, 'help': 1, 'define': 1, 'critique': 1, 'little': 1, 'bit': 1, 'image': 1, 'chris': 1, 'christopher': 1, 'tully': 1, 'north': 1, 'carolina': 1, 'hill': 1, 'nc': 1, 'get': 1, 'paid': 1, 'my': 1, 'mean': 1, 'unc': 1, 'anybody': 1, 'else': 1, 'agrees': 1})\n",
            "Document 7: Counter({'the': 21, 'a': 17, 'and': 16, 'to': 15, 'you': 14, 'is': 12, 'of': 12, 'for': 11, 'can': 10, 'procreate': 8, 'with': 8, 'an': 7, 'it': 7, 'in': 6, 'this': 6, 'are': 5, 'app': 5, 'includes': 4, 'as': 4, 'that': 4, 'on': 3, 'be': 3, 'what': 3, 'professional': 3, 'apple': 3, 'drawing': 3, 'editing': 3, 'image': 3, 'tweaking': 3, 'or': 3, 'tools': 3, 'get': 3, 'brush': 3, 'make': 2, 'designers': 2, 'ipad': 2, 'more': 2, 'new': 2, 'but': 2, 'five': 2, 'reasons': 2, 'your': 2, 'design': 2, 'why': 2, 'might': 2, 'collection': 2, 'touch': 2, 'pencil': 2, 'tool': 2, 'customizable': 2, 'canvas': 2, 'from': 2, 'images': 2, 'while': 2, 'fun': 2, 'most': 2, 'has': 2, 'we': 2, 'ability': 2, 'cool': 2, 'brushes': 2, 'create': 2, 'mix': 2, 'have': 2, 'illustration': 2, 'real': 2, 'should': 1, 'love': 1, 'built': 1, 'creative': 1, 'professionals': 1, 'makes': 1, 'designing': 1, 'easier': 1, 'efficient': 1, 'completely': 1, 'realistic': 1, 'photoshop': 1, 'answer': 1, 'definite': 1, 'here': 1, 'could': 1, 'become': 1, 'introduction': 1, 'perfect': 1, 'if': 1, 'familiar': 1, 'made': 1, 'paint': 1, 'edit': 1, 'robust': 1, 'responds': 1, 'pressure': 1, 'detailed': 1, 'sleek': 1, 'interface': 1, 'game': 1, 'changer': 1, 'when': 1, 'comes': 1, 'online': 1, 'incredible': 1, 'nice': 1, 'layer': 1, 'everything': 1, 'ease': 1, 'use': 1, 'expect': 1, 'product': 1, 'save': 1, 'device': 1, 'lot': 1, 'practical': 1, 'applications': 1, 'some': 1, 'light': 1, 'replace': 1, 'other': 1, 'software': 1, 'quick': 1, 'ant': 1, 'up': 1, 'stylize': 1, 'piece': 1, 'got': 1, 'call': 1, 'suite': 1, 'curve': 1, 'color': 1, 'balance': 1, 'think': 1, 'these': 1, 'giving': 1, 'filter': 1, 'own': 1, 'apply': 1, 'then': 1, 'super': 1, 'view': 1, 'changes': 1, 'small': 1, 'feature': 1, 'great': 1, 'experimenting': 1, 'techniques': 1, 'want': 1, 'give': 1, 'probably': 1, 'one': 1, 'options': 1, 'really': 1, 'designed': 1, 'library': 1, 'than': 1, 'almost': 1, 'any': 1, 'art': 1, 'technique': 1, 'also': 1, 'system': 1, 'so': 1, 'match': 1, 'every': 1, 'many': 1, 'actual': 1, 'best': 1, 'sets': 1, 'apart': 1, 'terms': 1, 'set': 1, 'huge': 1, 'work': 1, 'export': 1, 'drawings': 1, 'high': 1, 'resolution': 1, 'still': 1, 'video': 1, 'hard': 1, 'imagine': 1, 'how': 1, 'until': 1, 'start': 1, 'playing': 1, 'add': 1, 'just': 1, 'like': 1, 'albeit': 1, 'tap': 1, 'experience': 1, 'close': 1})\n",
            "Document 8: Counter({'drivers': 5, 'and': 4, 'the': 4, 'i': 3, 'dominic': 2, 'bgi': 2, 'for': 2, 'super': 2, 'vga': 2, 'know': 2, 'of': 2, 'a': 2, 'these': 2, 'will': 2, 'work': 2, 'on': 2, 'lai': 1, 'simon': 1, 'crowe': 1, 'require': 1, 'displays': 1, 'xvga': 1, 'does': 1, 'anyone': 1, 'where': 1, 'could': 1, 'obtain': 1, 'relevant': 1, 'sites': 1, 'would': 1, 'like': 1, 'to': 1, 'one': 1, 'its': 1, 'many': 1, 'has': 1, 'file': 1, 'called': 1, 'in': 1, 'programming': 1, 'are': 1, 'svga': 1, 'variety': 1, 'types': 1, 'chips': 1, 'trident': 1, 'tseng': 1, 'also': 1, 'video': 1, 'cards': 1, 'with': 1, 'vesa': 1, 'tweaked': 1, 'any': 1, 'clark': 1, 'verbrugge': 1})\n",
            "Document 9: Counter({'to': 9, 'design': 6, 'a': 6, 'of': 6, 'powerpoint': 5, 'presentation': 5, 'and': 5, 'you': 4, 'the': 4, 'that': 3, 'from': 3, 'your': 3, 'how': 2, 'professional': 2, 'some': 2, 'can': 2, 'by': 2, 'through': 2, 'using': 2, 'be': 2, 'own': 2, 'for': 2, 'many': 2, 'templates': 2, 'unlimited': 2, 'our': 1, 'series': 1, 'tips': 1, 'on': 1, 'outlined': 1, 'generic': 1, 'rules': 1, 'ideas': 1, 'live': 1, 'create': 1, 'more': 1, 'today': 1, 'we': 1, 'want': 1, 'follow': 1, 'up': 1, 'taking': 1, 'actual': 1, 'process': 1, 'designing': 1, 'start': 1, 'break': 1, 'down': 1, 'every': 1, 'step': 1, 'choosing': 1, 'colors': 1, 'images': 1, 'whitespace': 1, 'after': 1, 'reading': 1, 'this': 1, 'should': 1, 'all': 1, 'set': 1, 'beautiful': 1, 'slides': 1, 'will': 1, 'put': 1, 'coworkers': 1, 'template': 1, 'good': 1, 'starting': 1, 'point': 1, 'people': 1, 'collected': 1, 'best': 1, 'but': 1, 'if': 1, 'wanting': 1, 'in': 1, 'right': 1, 'does': 1, 'download': 1, 'thousands': 1, 'other': 1, 'with': 1, 'monthly': 1, 'envato': 1, 'elements': 1, 'it': 1, 'starts': 1, 'at': 1, 'per': 1, 'gives': 1, 'access': 1, 'growing': 1, 'library': 1, 'over': 1})\n",
            "Document 10: Counter({'any': 2, 'of': 2, 'routines': 2, 'modelling': 2, 'the': 2, 'would': 2, 'be': 2, 'and': 2, 'john': 2, 'chinnick': 2, 'does': 1, 'one': 1, 'know': 1, 'a': 1, 'decent': 1, 'quality': 1, 'library': 1, 'for': 1, 'performing': 1, 'graphics': 1, 'on': 1, 'ideally': 1, 'embeded': 1, 'in': 1, 'our': 1, 'application': 1, 'requirements': 1, 'flat': 1, 'surface': 1, 'phong': 1, 'shading': 1, 'ability': 1, 'to': 1, 'plot': 1, 'drawings': 1, 'texture': 1, 'mapping': 1, 'both': 1, 'procedural': 1, 'bit': 1, 'map': 1, 'modeling': 1, 'light': 1, 'sources': 1, 'spot': 1, 'radiosity': 1, 'comments': 1, 'phone': 1})\n",
            "Document 11: Counter({'to': 2, 'has': 1, 'anyone': 1, 'successfully': 1, 'converted': 1, 'interleaf': 1, 'graphics': 1, 'or': 1, 'even': 1, 'heard': 1, 'of': 1, 'it': 1, 'being': 1, 'love': 1, 'hear': 1, 'about': 1, 'mcconnell': 1})\n",
            "\n",
            "TF-IDF Matrix:\n",
            "Document 1: {'biggest': 0.016391808579215628, 'graphic': 0.0499724224665485, 'design': 0.03496937328290282, 'trends': 0.032783617158431255, 'for': 0.0027493321097401425, 'beyond': 0.032783617158431255, 'as': 0.0075813207727333685, 'you': 0.0030620551069089866, 'have': 0.013038032415665113, 'probably': 0.012493105616637124, 'the': 0.0, 'past': 0.016391808579215628, 'few': 0.032783617158431255, 'years': 0.032783617158431255, 'in': 0.0, 'been': 0.009726931843062307, 'dominated': 0.016391808579215628, 'by': 0.011656457760967607, 'bold': 0.016391808579215628, 'and': 0.0, 'futuristic': 0.016391808579215628, 'but': 0.0030620551069089866, 'world': 0.012493105616637124, 'is': 0.006124110213817973, 'going': 0.02498621123327425, 'to': -0.004183239278347587, 'feel': 0.012493105616637124, 'a': 0.0, 'lot': 0.02498621123327425, 'more': 0.008692021610443409, 'except': 0.016391808579215628, 'those': 0.012493105616637124, 'are': 0.004346010805221704, 'get': 0.0030620551069089866, 'abstract': 0.016391808579215628, 'this': 0.003859051835810601, 'shift': 0.016391808579215628, 'likely': 0.016391808579215628, 'reaction': 0.016391808579215628, 'overuse': 0.016391808579215628, 'of': -0.0025099435670085522, 'some': 0.004346010805221704, 'previous': 0.016391808579215628, 'styles': 0.016391808579215628, 'that': 0.0019295259179053005, 'were': 0.012493105616637124, 'very': 0.012493105616637124, 'unique': 0.016391808579215628, 'just': 0.011656457760967607, 'ago': 0.016391808579215628, 'become': 0.012493105616637124, 'another': 0.016391808579215628, 'common': 0.016391808579215628, 'tactic': 0.016391808579215628, 'used': 0.012493105616637124, 'massive': 0.016391808579215628, 'so': 0.004346010805221704, 'stay': 0.016391808579215628, 'ahead': 0.016391808579215628, 'be': 0.0019295259179053005, 'sure': 0.009726931843062307, 'check': 0.009726931843062307, 'out': 0.0075813207727333685}\n",
            "Document 2: {'sorry': 0.002710251339011805, 'i': 0.003760527950862974, 'missed': 0.002710251339011805, 'you': 0.0020251429641878196, 'was': 0.004131265450334693, 'just': 0.0009636499261849213, 'out': 0.0025070186339086497, 'in': 0.0, 'dahlgren': 0.002710251339011805, 'last': 0.0020656327251673467, 'the': 0.0, 'virtual': 0.027102513390118047, 'reality': 0.013551256695059024, 'market': 0.008130754017035413, 'manager': 0.008130754017035413, 'for': 0.001060685625803298, 'silicon': 0.01084100535604722, 'so': 0.002155731909744311, 'perhaps': 0.002710251339011805, 'can': 0.0038545997047396852, 'help': 0.0020656327251673467, 'a': 0.0, 'article': 0.0012535093169543249, 'real': 0.004131265450334693, 'our': 0.0032165370800587598, 'agency': 0.002710251339011805, 'started': 0.0020656327251673467, 'to': -0.00262832458315257, 'express': 0.002710251339011805, 'interest': 0.002710251339011805, 'we': 0.006267546584771623, 'do': 0.0020656327251673467, 'not': 0.012866148320235039, 'know': 0.0038545997047396852, 'much': 0.004131265450334693, 'about': 0.005014037267817299, 'all': 0.004131265450334693, 'are': 0.00790435033572914, 'hollywood': 0.002710251339011805, 'movies': 0.002710251339011805, 'terminater': 0.002710251339011805, 'and': 0.0, 'also': 0.0016082685400293799, 'something': 0.002710251339011805, 'vr': 0.02168201071209444, 'from': 0.003760527950862974, 'abc': 0.002710251339011805, 'news': 0.002710251339011805, 'magazine': 0.002710251339011805, 'computer': 0.01084100535604722, 'graphics': 0.017549130437360547, 'world': 0.0020656327251673467, 'while': 0.0032165370800587598, 'sgi': 0.002710251339011805, 'systems': 0.018590694526506118, 'were': 0.0020656327251673467, 'used': 0.004131265450334693, 'create': 0.0012535093169543249, 'special': 0.002710251339011805, 'effects': 0.002710251339011805, 'both': 0.0016082685400293799, 'terminator': 0.002710251339011805, 'lawnmower': 0.002710251339011805, 'those': 0.006196898175502038, 'rendered': 0.00542050267802361, 'software': 0.008262530900669387, 'written': 0.002710251339011805, 'film': 0.002710251339011805, 'frame': 0.016261508034070827, 'at': 0.008041342700146899, 'each': 0.002710251339011805, 'of': -0.0019366602191650513, 'animation': 0.002710251339011805, 'films': 0.002710251339011805, 'took': 0.002710251339011805, 'hours': 0.002710251339011805, 'render': 0.002710251339011805, 'on': 0.0012761252493618523, 'parallel': 0.002710251339011805, 'processing': 0.002710251339011805, 'that': 0.000957093937021389, 'level': 0.0020656327251673467, 'would': 0.0012535093169543249, 'be': 0.001595156561702315, 'if': 0.002155731909744311, 'acheive': 0.002710251339011805, 'time': 0.0016082685400293799, 'frames': 0.013551256695059024, 'per': 0.008262530900669387, 'certainly': 0.002710251339011805, 'want': 0.0016082685400293799, 'more': 0.0014371546064962074, 'who': 0.002710251339011805, 'leading': 0.0020656327251673467, 'what': 0.008041342700146899, 'machines': 0.002710251339011805, 'support': 0.012393796351004077, 'it': 0.0005062857410469549, 'depends': 0.002710251339011805, 'upon': 0.002710251339011805, 'how': 0.0019272998523698426, 'serious': 0.002710251339011805, 'advanced': 0.008262530900669387, 'your': 0.0009636499261849213, 'application': 0.004131265450334693, 'true': 0.0020656327251673467, 'immersive': 0.002710251339011805, 'visualization': 0.002710251339011805, 'requires': 0.00542050267802361, 'rendering': 0.01084100535604722, 'complex': 0.006196898175502038, 'visual': 0.002710251339011805, 'databases': 0.002710251339011805, 'anywhere': 0.002710251339011805, 'newly': 0.002710251339011805, 'this': 0.00031903131234046307, 'is': 0.0035440001873286837, 'similar': 0.002710251339011805, 'requirement': 0.002710251339011805, 'traditional': 0.002710251339011805, 'flight': 0.00542050267802361, 'simulators': 0.002710251339011805, 'pilot': 0.002710251339011805, 'rate': 0.00542050267802361, 'too': 0.004131265450334693, 'user': 0.004131265450334693, 'notices': 0.002710251339011805, 'stepping': 0.002710251339011805, 'as': 0.0025070186339086497, 'they': 0.0016082685400293799, 'move': 0.002710251339011805, 'their': 0.0048248056200881385, 'head': 0.00542050267802361, 'rapidly': 0.002710251339011805, 'around': 0.002710251339011805, 'motion': 0.002710251339011805, 'smooth': 0.002710251339011805, 'thus': 0.0020656327251673467, 'system': 0.006196898175502038, 'must': 0.006196898175502038, 'powerful': 0.002710251339011805, 'enough': 0.002710251339011805, 'sustain': 0.002710251339011805, 'high': 0.0016082685400293799, 'rates': 0.002710251339011805, 'data': 0.002710251339011805, 'renders': 0.002710251339011805, 'second': 0.00542050267802361, 'one': 0.0007185773032481037, 'then': 0.0016082685400293799, 'next': 0.002710251339011805, 'due': 0.004131265450334693, 'scene': 0.002710251339011805, 'new': 0.0012535093169543249, 'viewing': 0.002710251339011805, 'direction': 0.002710251339011805, 'being': 0.004131265450334693, 'simpler': 0.002710251339011805, 'than': 0.004131265450334693, 'visible': 0.002710251339011805, 'get': 0.0015188572231408645, 'heavily': 0.002710251339011805, 'distracted': 0.002710251339011805, 'by': 0.0009636499261849213, 'medium': 0.002710251339011805, 'rather': 0.002710251339011805, 'focusing': 0.002710251339011805, 'maintain': 0.002710251339011805, 'constant': 0.0020656327251673467, 'able': 0.004131265450334693, 'run': 0.002710251339011805, 'unix': 0.01084100535604722, 'general': 0.008130754017035413, 'does': 0.0009636499261849213, 'but': 0.0020251429641878196, 'has': 0.0007185773032481037, 'modified': 0.002710251339011805, 'kernel': 0.002710251339011805, 'its': 0.0012535093169543249, 'bypassing': 0.002710251339011805, 'usual': 0.002710251339011805, 'process': 0.0020656327251673467, 'uniprocessor': 0.00542050267802361, 'running': 0.002710251339011805, 'cannot': 0.002710251339011805, 'fundamentally': 0.002710251339011805, 'operation': 0.00542050267802361, 'sun': 0.002710251339011805, 'hp': 0.002710251339011805, 'series': 0.004131265450334693, 'ibm': 0.002710251339011805, 'even': 0.0016082685400293799, 'like': 0.0019272998523698426, 'indigo': 0.002710251339011805, 'or': 0.003760527950862974, 'only': 0.0032165370800587598, 'multiprocessor': 0.002710251339011805, 'onyx': 0.00542050267802361, 'challenge': 0.002710251339011805, 'symmetric': 0.002710251339011805, 'environments': 0.002710251339011805, 'techniques': 0.0020656327251673467, 'texture': 0.0020656327251673467, 'mapping': 0.0020656327251673467, 'purpose': 0.00542050267802361, 'crimson': 0.002710251339011805, 'realityengine': 0.002710251339011805, 'fully': 0.002710251339011805, 'these': 0.0012535093169543249, 'particularly': 0.002710251339011805, 'crawling': 0.002710251339011805, 'jagged': 0.002710251339011805, 'edges': 0.002710251339011805, 'aliased': 0.002710251339011805, 'polygons': 0.002710251339011805, 'an': 0.0009636499261849213, 'unfortunate': 0.002710251339011805, 'distraction': 0.002710251339011805, 'when': 0.0016082685400293799, 'immersed': 0.002710251339011805, 'kind': 0.002710251339011805, 'languages': 0.002710251339011805, 'with': 0.00031903131234046307, 'use': 0.0009636499261849213, 'libraries': 0.002710251339011805, 'listed': 0.002710251339011805, 'above': 0.002710251339011805, 'develop': 0.002710251339011805, 'starting': 0.0020656327251673467, 'pretty': 0.0020656327251673467, 'low': 0.002710251339011805, 'there': 0.008130754017035413, 'shelf': 0.002710251339011805, 'packages': 0.002710251339011805, 'available': 0.0020656327251673467, 'going': 0.0020656327251673467, 'targeted': 0.002710251339011805, 'directly': 0.002710251339011805, 'some': 0.002155731909744311, 'most': 0.0016082685400293799, 'popular': 0.002710251339011805, 'no': 0.002710251339011805, 'particular': 0.002710251339011805, 'division': 0.00542050267802361, 'dvs': 0.002710251339011805, 'worldtoolkit': 0.002710251339011805, 'naval': 0.002710251339011805, 'postgraduate': 0.002710251339011805, 'school': 0.002710251339011805, 'npsnet': 0.002710251339011805, 'gemini': 0.002710251339011805, 'technology': 0.002710251339011805, 'corp': 0.002710251339011805, 'gvs': 0.002710251339011805, 'simation': 0.002710251339011805, 'paradigm': 0.002710251339011805, 'simulation': 0.002710251339011805, 'audioworks': 0.002710251339011805, 'iris': 0.002710251339011805, 'performer': 0.002710251339011805, 'off': 0.002710251339011805, 'top': 0.002710251339011805, 'my': 0.0016082685400293799, 'companies': 0.0020656327251673467, 'making': 0.002710251339011805, 'interface': 0.0020656327251673467, 'devices': 0.002710251339011805, 'boom': 0.00542050267802361, 'many': 0.00031903131234046307, 'list': 0.00542050267802361, 'here': 0.0020656327251673467, 'fake': 0.002710251339011805, 'space': 0.002710251339011805, 'labs': 0.002710251339011805, 'technologies': 0.002710251339011805, 'cyberglove': 0.002710251339011805, 'digital': 0.002710251339011805, 'image': 0.0016082685400293799, 'design': 0.0009636499261849213, 'cricket': 0.002710251339011805, 'kaiser': 0.002710251339011805, 'electro': 0.002710251339011805, 'optics': 0.002710251339011805, 'sim': 0.002710251339011805, 'eye': 0.002710251339011805, 'helmet': 0.00542050267802361, 'displays': 0.0020656327251673467, 'research': 0.002710251339011805, 'display': 0.0020656327251673467, 'mtd': 0.002710251339011805, 'modeling': 0.0020656327251673467, 'addresses': 0.002710251339011805, 'phone': 0.004131265450334693, 'where': 0.0020656327251673467, 'name': 0.002710251339011805, 'experts': 0.002710251339011805, 'numbers': 0.002710251339011805, 'email': 0.002710251339011805, 'read': 0.0020656327251673467, 'books': 0.002710251339011805, 'ken': 0.00542050267802361, 'pimental': 0.002710251339011805, 'texiera': 0.002710251339011805, 'mirage': 0.002710251339011805, 'artificial': 0.002710251339011805, 'myron': 0.002710251339011805, 'kreuger': 0.002710251339011805, 'check': 0.0016082685400293799, 'newsgroup': 0.002710251339011805, 'feel': 0.0020656327251673467, 'free': 0.002710251339011805, 'contact': 0.002710251339011805, 'me': 0.0020656327251673467, 'josh': 0.002710251339011805, 'joshua': 0.002710251339011805, 'mogal': 0.002710251339011805, 'product': 0.0020656327251673467, 'north': 0.0020656327251673467, 'shoreline': 0.002710251339011805, 'mountain': 0.002710251339011805, 'ca': 0.002710251339011805, 'interactive': 0.002710251339011805, 'entertainment': 0.002710251339011805}\n",
            "Document 3: {'in': 0.0, 'article': 0.003962097288262665, 'intersection': 0.008566573327831282, 'between': 0.008566573327831282, 'a': 0.0, 'line': 0.03426629331132513, 'and': 0.0, 'polygon': 0.039174361330560625, 'by': 0.012183634242619408, 'dave': 0.008566573327831282, 'tom': 0.008566573327831282, 'duff': 0.008566573327831282, 'recent': 0.008566573327831282, 'many': 0.0010083954545836746, 'geometric': 0.008566573327831282, 'problems': 0.006529060221760105, 'have': 0.002271282028859584, 'been': 0.00508342166672603, 'successfully': 0.006529060221760105, 'modeled': 0.008566573327831282, 'new': 0.003962097288262665, 'language': 0.008566573327831282, 'called': 0.01305812044352021, 'adobe': 0.006529060221760105, 'systems': 0.006529060221760105, 'isbn': 0.008566573327831282, 'given': 0.017133146655662564, 'l': 0.017133146655662564, 'we': 0.00792419457652533, 'can': 0.009137725681964555, 'write': 0.008566573327831282, 'postscript': 0.008566573327831282, 'program': 0.025699719983493848, 'that': 0.002016790909167349, 'draws': 0.008566573327831282, 'the': 0.0, 'then': 0.00508342166672603, 'mean': 0.006529060221760105, 'executes': 0.008566573327831282, 'command': 0.008566573327831282, 'which': 0.008566573327831282, 'actually': 0.006529060221760105, 'prints': 0.008566573327831282, 'page': 0.008566573327831282, 'of': -0.002186215502252005, 'paper': 0.017133146655662564, 'containing': 0.008566573327831282, 'quick': 0.006529060221760105, 'examination': 0.008566573327831282, 'provides': 0.008566573327831282, 'an': 0.003045908560654852, 'answer': 0.006529060221760105, 'to': -0.0017489724018016043, 'reduced': 0.008566573327831282, 'problem': 0.01305812044352021, 'thus': 0.006529060221760105, 'original': 0.008566573327831282, 'modern': 0.008566573327831282, 'point': 0.02611624088704042, 'be': 0.0030251863637510237, 'solved': 0.008566573327831282, 'even': 0.00508342166672603, 'more': 0.002271282028859584, 'allen': 0.008566573327831282, 'b': 0.008566573327831282, 'amusement': 0.008566573327831282, 'regulars': 0.008566573327831282, 'humor': 0.008566573327831282, 'sense': 0.008566573327831282, 'thereof': 0.008566573327831282, 'this': 0.0010083954545836746, 'will': 0.00792419457652533, 'test': 0.017133146655662564, 'whether': 0.008566573327831282, 'is': 0.0016002700056207768, 'inside': 0.008566573327831282, 'currently': 0.008566573327831282, 'it': 0.0016002700056207768, 'uses': 0.008566573327831282, 'but': 0.0016002700056207768, 'changed': 0.008566573327831282, 'replacing': 0.008566573327831282, 'ineofill': 0.017133146655662564, 'with': 0.0010083954545836746, 'these': 0.003962097288262665, 'are': 0.002271282028859584, 'level': 0.01305812044352021, 'so': 0.002271282028859584, 'if': 0.004542564057719168, 'only': 0.01016684333345206, 'got': 0.006529060221760105, 'out': 0.003962097288262665, 'result': 0.008566573327831282, 'printed': 0.008566573327831282, 'on': 0.0010083954545836746, 'output': 0.008566573327831282, 'accurate': 0.008566573327831282, 'device': 0.006529060221760105, 'put': 0.00508342166672603, 'huge': 0.00508342166672603, 'scale': 0.008566573327831282, 'first': 0.008566573327831282, 'you': 0.0016002700056207768, 'vertices': 0.008566573327831282, 'order': 0.008566573327831282, 'dup': 0.025699719983493848, 'get': 0.0016002700056207768, 'aload': 0.017133146655662564, 'pop': 0.017133146655662564, 'moveto': 0.008566573327831282, 'length': 0.008566573327831282, 'roll': 0.008566573327831282, 'sub': 0.008566573327831282, 'getinterval': 0.008566573327831282, 'lineto': 0.008566573327831282, 'forall': 0.008566573327831282, 'closepath': 0.008566573327831282, 'ifelse': 0.008566573327831282}\n",
            "Document 4: {'learn': 0.026226893726745006, 'adobe': 0.026651958648825864, 'illustrator': 0.026226893726745006, 'and': 0.0, 'get': 0.004899288171054379, 'started': 0.006662989662206466, 'with': 0.003087241468648481, 'graphic': 0.0199889689866194, 'design': 0.01554194368129014, 'from': 0.01213011323637339, 'print': 0.008742297908915002, 'video': 0.0051876969829665635, 'ads': 0.008742297908915002, 'to': -0.005354546276284912, 'presentations': 0.008742297908915002, 'pitch': 0.008742297908915002, 'designers': 0.013325979324412932, 'have': 0.0023178724294515753, 'their': 0.010375393965933127, 'hands': 0.008742297908915002, 'in': 0.0, 'a': 0.0, 'huge': 0.0051876969829665635, 'array': 0.008742297908915002, 'of': -0.0008924243793808186, 'projects': 0.03496919163566001, 'an': 0.003108388736258028, 'while': 0.010375393965933127, 'some': 0.0023178724294515753, 'companies': 0.006662989662206466, 'keep': 0.008742297908915002, 'team': 0.008742297908915002, 'many': 0.0010290804895494935, 'bring': 0.008742297908915002, 'on': 0.005145402447747468, 'contractors': 0.008742297908915002, 'handle': 0.008742297908915002, 'either': 0.008742297908915002, 'enjoy': 0.008742297908915002, 'lucrative': 0.008742297908915002, 'careers': 0.008742297908915002, 'that': 0.003087241468648481, 'come': 0.006662989662206466, 'constant': 0.006662989662206466, 'creative': 0.006662989662206466, 'sound': 0.006662989662206466, 'the': 0.0, 'cc': 0.017484595817830004, 'master': 0.017484595817830004, 'class': 0.017484595817830004, 'bundle': 0.026226893726745006, 'can': 0.006216777472516056, 'teach': 0.008742297908915002, 'you': 0.006532384228072504, 'tools': 0.006662989662206466, 'need': 0.008742297908915002, 'know': 0.003108388736258028, 'sale': 0.017484595817830004, 'for': 0.000977540305685384, 'under': 0.008742297908915002, 'this': 0.0010290804895494935, 'takes': 0.008742297908915002, 'comprehensive': 0.008742297908915002, 'journey': 0.008742297908915002, 'into': 0.008742297908915002, 'one': 0.0023178724294515753, 'leading': 0.006662989662206466, 'crash': 0.008742297908915002, 'course': 0.008742297908915002, 'understanding': 0.008742297908915002, 'nuts': 0.008742297908915002, 'bolts': 0.008742297908915002, 'behind': 0.008742297908915002, 'vector': 0.008742297908915002, 'editing': 0.006662989662206466, 'learning': 0.008742297908915002, 'how': 0.009325166208774084, 'use': 0.003108388736258028, 'core': 0.008742297908915002, 'apply': 0.006662989662206466, 'your': 0.009325166208774084, 'skills': 0.008742297908915002, 'build': 0.006662989662206466, 'user': 0.006662989662206466, 'interfaces': 0.008742297908915002, 'web': 0.008742297908915002, 'pages': 0.008742297908915002, 'complete': 0.017484595817830004, 'like': 0.003108388736258028, 'flyers': 0.008742297908915002, 'static': 0.008742297908915002, 'be': 0.0010290804895494935, 'able': 0.006662989662206466, 'create': 0.0040433710787911295, 'actual': 0.0051876969829665635, 'include': 0.008742297908915002, 'portfolio': 0.008742297908915002, 'send': 0.008742297908915002, 'advanced': 0.006662989662206466, 'streamline': 0.008742297908915002, 'productivity': 0.008742297908915002, 'workflow': 0.008742297908915002, 'complex': 0.006662989662206466, 'ready': 0.008742297908915002, 'way': 0.008742297908915002, 'brand': 0.008742297908915002, 'new': 0.0040433710787911295, 'normally': 0.008742297908915002, 'is': 0.001633096057018126, 'now': 0.006662989662206466, 'just': 0.003108388736258028}\n",
            "Document 5: {'in': 0.0, 'article': 0.004990236458001711, 'trent': 0.005394772443792485, 'canada': 0.005394772443792485, 'have': 0.00715166335036483, 'heard': 0.004111655013070445, 'many': 0.0006350338463992128, 'bad': 0.01078954488758497, 'things': 0.005394772443792485, 'about': 0.007485354687002566, 'the': 0.0, 'ati': 0.032368634662754914, 'ultra': 0.026973862218962426, 'plus': 0.01078954488758497, 'card': 0.05934249688171733, 'having': 0.005394772443792485, 'do': 0.004111655013070445, 'with': 0.003810203078395277, 'its': 0.004990236458001711, 'buggy': 0.005394772443792485, 'windows': 0.01078954488758497, 'would': 0.004990236458001711, 'like': 0.0038363025542425032, 'to': -0.0013767622941397123, 'replace': 0.004111655013070445, 'by': 0.0019181512771212516, 'graphics': 0.007485354687002566, 'a': 0.0, 'accelerated': 0.01078954488758497, 'i': 0.04491212812201539, 'was': 0.012334965039211337, 'buy': 0.005394772443792485, 'but': 0.007054354803258678, 'it': 0.010077649718940969, 'has': 0.008581996020437795, 'had': 0.01078954488758497, 'so': 0.002860665340145932, 'much': 0.004111655013070445, 'press': 0.01078954488758497, 'that': 0.007620406156790554, 'am': 0.004111655013070445, 'pro': 0.01078954488758497, 'eisa': 0.01078954488758497, 'must': 0.004111655013070445, 'admit': 0.005394772443792485, 'received': 0.005394772443792485, 'due': 0.004111655013070445, 'faulty': 0.005394772443792485, 'drivers': 0.00822331002614089, 'now': 0.00822331002614089, 'are': 0.002860665340145932, 'available': 0.004111655013070445, 'for': 0.0015080724652583061, 'version': 0.005394772443792485, 'same': 0.005394772443792485, 'ones': 0.005394772443792485, 'as': 0.0024951182290008553, 'isa': 0.005394772443792485, 'and': 0.0, 'local': 0.005394772443792485, 'bus': 0.005394772443792485, 'build': 0.00822331002614089, 'some': 0.001430332670072966, 'people': 0.004111655013070445, 'complained': 0.005394772443792485, 'problems': 0.004111655013070445, 'they': 0.0032012687078432907, 'fortunately': 0.005394772443792485, 'duplicate': 0.005394772443792485, 'them': 0.005394772443792485, 'on': 0.0006350338463992128, 'my': 0.009603806123529873, 'did': 0.005394772443792485, 'one': 0.001430332670072966, 'problem': 0.004111655013070445, 'harvard': 0.005394772443792485, 'nobody': 0.005394772443792485, 'else': 0.004111655013070445, 'seemed': 0.005394772443792485, 'an': 0.0038363025542425032, 'does': 0.0038363025542425032, 'true': 0.004111655013070445, 'colour': 0.01078954488758497, 'at': 0.028811418370589616, 'least': 0.005394772443792485, 'colours': 0.005394772443792485, 'fast': 0.01078954488758497, 'polygon': 0.004111655013070445, 'fills': 0.005394772443792485, 'bit': 0.0032012687078432907, 'blits': 0.005394772443792485, 'robust': 0.004111655013070445, 'driver': 0.005394772443792485, 'high': 0.0032012687078432907, 'speed': 0.005394772443792485, 'refresh': 0.005394772443792485, 'recommed': 0.005394772443792485, 'this': 0.003175169231996064, 'resolution': 0.004111655013070445, 'display': 0.004111655013070445, 'will': 0.004990236458001711, 'be': 0.0012700676927984256, 'thought': 0.005394772443792485, 'sound': 0.004111655013070445, 'right': 0.00822331002614089, 'vlb': 0.005394772443792485, 'pretty': 0.004111655013070445, 'sure': 0.0032012687078432907, 'is': 0.0030232949156822906, 'not': 0.0032012687078432907, 'interlaced': 0.005394772443792485, 'work': 0.0032012687078432907, 'check': 0.0032012687078432907, 'know': 0.0019181512771212516, 'when': 0.0032012687078432907, 'set': 0.0032012687078432907, 'up': 0.004990236458001711, 'utility': 0.005394772443792485, 'let': 0.01078954488758497, 'me': 0.004111655013070445, 'specify': 0.005394772443792485, 'noticed': 0.005394772443792485, 'couple': 0.005394772443792485, 'times': 0.005394772443792485, 'put': 0.0032012687078432907, 'mode': 0.005394772443792485, 'could': 0.0032012687078432907, 'wrong': 0.005394772443792485, 'because': 0.004111655013070445, 'very': 0.004111655013070445, 'rarely': 0.005394772443792485, 'use': 0.0019181512771212516, 'most': 0.0032012687078432907, 'of': -0.0002753524588279424, 'applications': 0.004111655013070445, 'home': 0.005394772443792485, 'what': 0.0032012687078432907, 'phil': 0.005394772443792485, 'monitor': 0.005394772443792485, 'only': 0.0032012687078432907, 'time': 0.0032012687078432907, 'you': 0.0020155299437881937, 'get': 0.0010077649718940969, 'if': 0.001430332670072966, 'come': 0.004111655013070445, 'cards': 0.004111655013070445, 'more': 0.001430332670072966, 'suited': 0.005394772443792485, 'your': 0.0019181512771212516, 'needs': 0.005394772443792485, 'amro': 0.005394772443792485, 'philip': 0.005394772443792485, 'carmack': 0.005394772443792485, 'kubota': 0.005394772443792485, 'pacific': 0.005394772443792485}\n",
            "Document 6: {'in': 0.0, 'article': 0.010108427696977824, 'according': 0.01092787238614375, 'to': -0.00334659142267807, 'the': 0.0, 'tiff': 0.043711489544575, 'has': 0.002897340536814469, 'been': 0.006484621228708204, 'chosen': 0.0218557447722875, 'for': 0.001832888073160095, 'its': 0.015162641545466737, 'philosophical': 0.01092787238614375, 'last': 0.008328737077758082, 'i': 0.035379496939422383, 'read': 0.016657474155516164, 'hitchhikers': 0.01092787238614375, 'guide': 0.01092787238614375, 'is': 0.010206850356363288, 'this': 0.001286350611936867, 'actually': 0.016657474155516164, 'how': 0.003885485920322535, 'they': 0.012969242457416407, 'picked': 0.01092787238614375, 'number': 0.01092787238614375, 'sure': 0.006484621228708204, 'it': 0.0040827401425453155, 'and': 0.0, 'am': 0.008328737077758082, 'not': 0.012969242457416407, 'every': 0.006484621228708204, 'time': 0.006484621228708204, 'that': 0.006431753059684334, 'part': 0.01092787238614375, 'of': -0.0027888261855650576, 'infuriates': 0.01092787238614375, 'none': 0.01092787238614375, 'too': 0.008328737077758082, 'happy': 0.01092787238614375, 'about': 0.010108427696977824, 'spec': 0.01092787238614375, 'because': 0.008328737077758082, 'think': 0.016657474155516164, 'their': 0.012969242457416407, 'but': 0.0040827401425453155, 'find': 0.01092787238614375, 'bytes': 0.01092787238614375, 'begin': 0.01092787238614375, 'a': 0.0, 'file': 0.008328737077758082, 'with': 0.002572701223873734, 'meaningless': 0.01092787238614375, 'why': 0.02498621123327425, 'just': 0.003885485920322535, 'use': 0.003885485920322535, 'letters': 0.01092787238614375, 'should': 0.006484621228708204, 'have': 0.002897340536814469, 'bothered': 0.01092787238614375, 'support': 0.008328737077758082, 'both': 0.006484621228708204, 'word': 0.01092787238614375, 'found': 0.01092787238614375, 'many': 0.001286350611936867, 'readers': 0.01092787238614375, 'so': 0.008692021610443409, 'up': 0.005054213848488912, 'out': 0.005054213848488912, 'gripe': 0.01092787238614375, 'if': 0.002897340536814469, 'important': 0.01092787238614375, 'volunteer': 0.01092787238614375, 'help': 0.008328737077758082, 'define': 0.01092787238614375, 'or': 0.010108427696977824, 'critique': 0.01092787238614375, 'little': 0.01092787238614375, 'bit': 0.006484621228708204, 'image': 0.006484621228708204, 'chris': 0.01092787238614375, 'christopher': 0.01092787238614375, 'tully': 0.01092787238614375, 'north': 0.008328737077758082, 'carolina': 0.01092787238614375, 'chapel': 0.0218557447722875, 'hill': 0.01092787238614375, 'nc': 0.01092787238614375, 'get': 0.0020413700712726577, 'paid': 0.01092787238614375, 'my': 0.006484621228708204, 'mean': 0.008328737077758082, 'unc': 0.01092787238614375, 'anybody': 0.01092787238614375, 'else': 0.008328737077758082, 'agrees': 0.01092787238614375}\n",
            "Document 7: {'procreate': 0.03231749937892749, 'should': 0.0023971585584798105, 'you': 0.010564815724311574, 'make': 0.008079374844731873, 'the': 0.0, 'designers': 0.006157739261280858, 'are': 0.005355273977998308, 'in': 0.0, 'love': 0.003078869630640429, 'with': 0.0038041838002303555, 'app': 0.02019843711182968, 'built': 0.004039687422365937, 'for': 0.002484388573098517, 'creative': 0.003078869630640429, 'professionals': 0.004039687422365937, 'makes': 0.004039687422365937, 'designing': 0.003078869630640429, 'on': 0.0014265689250863832, 'an': 0.010054385367280115, 'ipad': 0.008079374844731873, 'easier': 0.004039687422365937, 'and': 0.0, 'more': 0.0021421095911993236, 'efficient': 0.004039687422365937, 'a': 0.0, 'completely': 0.004039687422365937, 'new': 0.0037367647410628925, 'but': 0.0015092593891873679, 'can': 0.01436340766754302, 'be': 0.0014265689250863832, 'realistic': 0.004039687422365937, 'photoshop': 0.004039687422365937, 'answer': 0.003078869630640429, 'is': 0.009055556335124205, 'definite': 0.004039687422365937, 'here': 0.003078869630640429, 'five': 0.008079374844731873, 'reasons': 0.008079374844731873, 'could': 0.0023971585584798105, 'become': 0.003078869630640429, 'your': 0.0028726815335086042, 'design': 0.0028726815335086042, 'why': 0.006157739261280858, 'it': 0.005282407862155787, 'might': 0.008079374844731873, 'introduction': 0.004039687422365937, 'to': -0.003092821456977363, 'what': 0.00719147567543943, 'perfect': 0.004039687422365937, 'if': 0.0010710547955996618, 'familiar': 0.004039687422365937, 'made': 0.004039687422365937, 'professional': 0.009236608891921285, 'paint': 0.004039687422365937, 'edit': 0.004039687422365937, 'robust': 0.003078869630640429, 'collection': 0.008079374844731873, 'of': -0.0024742571655818903, 'responds': 0.004039687422365937, 'touch': 0.008079374844731873, 'pressure': 0.004039687422365937, 'apple': 0.012119062267097809, 'pencil': 0.008079374844731873, 'detailed': 0.004039687422365937, 'tool': 0.008079374844731873, 'includes': 0.016158749689463747, 'sleek': 0.004039687422365937, 'interface': 0.003078869630640429, 'game': 0.004039687422365937, 'changer': 0.004039687422365937, 'when': 0.0023971585584798105, 'comes': 0.004039687422365937, 'online': 0.004039687422365937, 'drawing': 0.012119062267097809, 'customizable': 0.008079374844731873, 'incredible': 0.004039687422365937, 'canvas': 0.008079374844731873, 'nice': 0.004039687422365937, 'layer': 0.004039687422365937, 'everything': 0.004039687422365937, 'ease': 0.004039687422365937, 'use': 0.0014363407667543021, 'expect': 0.004039687422365937, 'from': 0.0037367647410628925, 'product': 0.003078869630640429, 'save': 0.004039687422365937, 'images': 0.006157739261280858, 'device': 0.003078869630640429, 'while': 0.004794317116959621, 'this': 0.0028531378501727663, 'fun': 0.008079374844731873, 'lot': 0.003078869630640429, 'most': 0.004794317116959621, 'practical': 0.004039687422365937, 'applications': 0.003078869630640429, 'some': 0.0010710547955996618, 'light': 0.003078869630640429, 'editing': 0.009236608891921285, 'replace': 0.003078869630640429, 'other': 0.003078869630640429, 'software': 0.003078869630640429, 'quick': 0.003078869630640429, 'image': 0.00719147567543943, 'tweaking': 0.012119062267097809, 'ant': 0.004039687422365937, 'up': 0.0018683823705314463, 'or': 0.005605147111594338, 'stylize': 0.004039687422365937, 'piece': 0.004039687422365937, 'has': 0.0021421095911993236, 'got': 0.003078869630640429, 'we': 0.0037367647410628925, 'call': 0.004039687422365937, 'suite': 0.004039687422365937, 'curve': 0.004039687422365937, 'color': 0.004039687422365937, 'balance': 0.004039687422365937, 'think': 0.003078869630640429, 'these': 0.0018683823705314463, 'tools': 0.009236608891921285, 'as': 0.007473529482125785, 'giving': 0.004039687422365937, 'ability': 0.006157739261280858, 'cool': 0.008079374844731873, 'filter': 0.004039687422365937, 'own': 0.003078869630640429, 'apply': 0.003078869630640429, 'then': 0.0023971585584798105, 'super': 0.003078869630640429, 'view': 0.004039687422365937, 'changes': 0.004039687422365937, 'that': 0.0019020919001151778, 'small': 0.004039687422365937, 'feature': 0.004039687422365937, 'great': 0.004039687422365937, 'experimenting': 0.004039687422365937, 'techniques': 0.003078869630640429, 'want': 0.0023971585584798105, 'get': 0.0022638890837810514, 'give': 0.004039687422365937, 'probably': 0.003078869630640429, 'one': 0.0010710547955996618, 'options': 0.004039687422365937, 'really': 0.004039687422365937, 'designed': 0.004039687422365937, 'brush': 0.012119062267097809, 'library': 0.0023971585584798105, 'than': 0.003078869630640429, 'brushes': 0.008079374844731873, 'create': 0.0037367647410628925, 'almost': 0.004039687422365937, 'any': 0.0023971585584798105, 'art': 0.004039687422365937, 'technique': 0.004039687422365937, 'also': 0.0023971585584798105, 'system': 0.003078869630640429, 'so': 0.0010710547955996618, 'mix': 0.008079374844731873, 'match': 0.004039687422365937, 'every': 0.0023971585584798105, 'have': 0.0021421095911993236, 'many': 0.00047552297502879444, 'actual': 0.0023971585584798105, 'best': 0.003078869630640429, 'sets': 0.004039687422365937, 'apart': 0.004039687422365937, 'terms': 0.004039687422365937, 'illustration': 0.008079374844731873, 'set': 0.0023971585584798105, 'huge': 0.0023971585584798105, 'work': 0.0023971585584798105, 'export': 0.004039687422365937, 'drawings': 0.003078869630640429, 'high': 0.0023971585584798105, 'resolution': 0.003078869630640429, 'still': 0.004039687422365937, 'video': 0.0023971585584798105, 'hard': 0.004039687422365937, 'imagine': 0.004039687422365937, 'how': 0.0014363407667543021, 'until': 0.004039687422365937, 'start': 0.003078869630640429, 'playing': 0.004039687422365937, 'add': 0.004039687422365937, 'just': 0.0014363407667543021, 'like': 0.0014363407667543021, 'real': 0.006157739261280858, 'albeit': 0.004039687422365937, 'tap': 0.004039687422365937, 'experience': 0.004039687422365937, 'close': 0.004039687422365937}\n",
            "Document 8: {'dominic': 0.04261870230596063, 'lai': 0.021309351152980317, 'simon': 0.021309351152980317, 'crowe': 0.021309351152980317, 'i': 0.029567151013660135, 'require': 0.021309351152980317, 'bgi': 0.04261870230596063, 'drivers': 0.0812051865081413, 'for': 0.0023827544951081237, 'super': 0.03248207460325652, 'vga': 0.04261870230596063, 'displays': 0.01624103730162826, 'and': 0.0, 'xvga': 0.021309351152980317, 'does': 0.007576697544628944, 'anyone': 0.01624103730162826, 'know': 0.015153395089257888, 'where': 0.01624103730162826, 'could': 0.012645011395980999, 'obtain': 0.021309351152980317, 'the': 0.0, 'relevant': 0.021309351152980317, 'sites': 0.021309351152980317, 'would': 0.009855717004553378, 'like': 0.007576697544628944, 'to': -0.0010876422123703726, 'one': 0.005649814046788215, 'of': -0.002175284424740745, 'its': 0.009855717004553378, 'many': 0.0025083836932768906, 'has': 0.005649814046788215, 'a': 0.0, 'file': 0.01624103730162826, 'called': 0.01624103730162826, 'in': 0.0, 'programming': 0.021309351152980317, 'these': 0.019711434009106757, 'are': 0.005649814046788215, 'svga': 0.021309351152980317, 'variety': 0.021309351152980317, 'types': 0.021309351152980317, 'chips': 0.021309351152980317, 'trident': 0.021309351152980317, 'tseng': 0.021309351152980317, 'will': 0.019711434009106757, 'also': 0.012645011395980999, 'work': 0.025290022791961998, 'on': 0.005016767386553781, 'video': 0.012645011395980999, 'cards': 0.01624103730162826, 'with': 0.0025083836932768906, 'vesa': 0.021309351152980317, 'tweaked': 0.021309351152980317, 'any': 0.012645011395980999, 'clark': 0.021309351152980317, 'verbrugge': 0.021309351152980317}\n",
            "Document 9: {'how': 0.00787189355286124, 'to': -0.0050850804734199236, 'design': 0.02361568065858372, 'a': 0.0, 'professional': 0.016873804988704687, 'powerpoint': 0.0553489640337151, 'presentation': 0.0553489640337151, 'our': 0.0065688370888212985, 'series': 0.008436902494352343, 'of': -0.0033900536489466157, 'tips': 0.011069792806743022, 'on': 0.0013030564640399433, 'outlined': 0.011069792806743022, 'some': 0.005869936671987756, 'generic': 0.011069792806743022, 'rules': 0.011069792806743022, 'and': 0.0, 'ideas': 0.011069792806743022, 'that': 0.003909169392119829, 'you': 0.008271525483598302, 'can': 0.00787189355286124, 'live': 0.011069792806743022, 'by': 0.00787189355286124, 'create': 0.005119852989378379, 'more': 0.002934968335993878, 'today': 0.011069792806743022, 'we': 0.005119852989378379, 'want': 0.0065688370888212985, 'follow': 0.011069792806743022, 'up': 0.005119852989378379, 'taking': 0.011069792806743022, 'through': 0.022139585613486043, 'the': 0.0, 'actual': 0.0065688370888212985, 'process': 0.008436902494352343, 'designing': 0.008436902494352343, 'from': 0.015359558968135135, 'start': 0.008436902494352343, 'break': 0.011069792806743022, 'down': 0.011069792806743022, 'every': 0.0065688370888212985, 'step': 0.011069792806743022, 'choosing': 0.011069792806743022, 'colors': 0.011069792806743022, 'images': 0.008436902494352343, 'using': 0.022139585613486043, 'whitespace': 0.011069792806743022, 'after': 0.011069792806743022, 'reading': 0.011069792806743022, 'this': 0.0013030564640399433, 'should': 0.0065688370888212985, 'be': 0.0026061129280798867, 'all': 0.008436902494352343, 'set': 0.0065688370888212985, 'your': 0.01180784032929186, 'own': 0.016873804988704687, 'beautiful': 0.011069792806743022, 'slides': 0.011069792806743022, 'will': 0.005119852989378379, 'put': 0.0065688370888212985, 'coworkers': 0.011069792806743022, 'template': 0.011069792806743022, 'good': 0.011069792806743022, 'starting': 0.008436902494352343, 'point': 0.008436902494352343, 'for': 0.0012377945429133108, 'many': 0.0026061129280798867, 'people': 0.008436902494352343, 'collected': 0.011069792806743022, 'best': 0.008436902494352343, 'templates': 0.022139585613486043, 'but': 0.0020678813708995755, 'if': 0.002934968335993878, 'wanting': 0.011069792806743022, 'in': 0.0, 'right': 0.008436902494352343, 'does': 0.00393594677643062, 'unlimited': 0.022139585613486043, 'download': 0.011069792806743022, 'thousands': 0.011069792806743022, 'other': 0.008436902494352343, 'with': 0.0013030564640399433, 'monthly': 0.011069792806743022, 'envato': 0.011069792806743022, 'elements': 0.011069792806743022, 'it': 0.0020678813708995755, 'starts': 0.011069792806743022, 'at': 0.0065688370888212985, 'per': 0.008436902494352343, 'gives': 0.011069792806743022, 'access': 0.011069792806743022, 'growing': 0.011069792806743022, 'library': 0.0065688370888212985, 'over': 0.011069792806743022}\n",
            "Document 10: {'does': 0.010450617302936473, 'any': 0.034882790057878615, 'one': 0.007792846961087193, 'know': 0.010450617302936473, 'of': -0.003000392309987235, 'a': 0.0, 'decent': 0.029392208486869402, 'quality': 0.029392208486869402, 'library': 0.017441395028939308, 'routines': 0.058784416973738804, 'for': 0.0016432789621435334, 'performing': 0.029392208486869402, 'graphics': 0.013594092420073626, 'modelling': 0.058784416973738804, 'on': 0.003459839576933642, 'the': 0.0, 'ideally': 0.029392208486869402, 'would': 0.02718818484014725, 'be': 0.006919679153867284, 'embeded': 0.029392208486869402, 'in': 0.0, 'our': 0.017441395028939308, 'application': 0.022401430760866568, 'requirements': 0.029392208486869402, 'flat': 0.029392208486869402, 'surface': 0.029392208486869402, 'phong': 0.029392208486869402, 'shading': 0.029392208486869402, 'ability': 0.022401430760866568, 'to': -0.0015001961549936174, 'plot': 0.029392208486869402, 'drawings': 0.022401430760866568, 'texture': 0.022401430760866568, 'mapping': 0.022401430760866568, 'both': 0.017441395028939308, 'procedural': 0.029392208486869402, 'and': 0.0, 'bit': 0.017441395028939308, 'map': 0.029392208486869402, 'modeling': 0.022401430760866568, 'light': 0.022401430760866568, 'sources': 0.029392208486869402, 'spot': 0.029392208486869402, 'radiosity': 0.029392208486869402, 'comments': 0.029392208486869402, 'john': 0.058784416973738804, 'chinnick': 0.058784416973738804, 'phone': 0.022401430760866568}\n",
            "Document 11: {'has': 0.025110284652392068, 'anyone': 0.07218238800723671, 'successfully': 0.07218238800723671, 'converted': 0.09470822734657917, 'interleaf': 0.09470822734657917, 'graphics': 0.0438031866869039, 'to': -0.009667930776625535, 'or': 0.0438031866869039, 'even': 0.056200050648804435, 'heard': 0.07218238800723671, 'of': -0.004833965388312767, 'it': 0.0176918739510297, 'being': 0.07218238800723671, 'love': 0.07218238800723671, 'hear': 0.09470822734657917, 'about': 0.0438031866869039, 'mcconnell': 0.09470822734657917}\n"
          ]
        }
      ]
    },
    {
      "cell_type": "markdown",
      "source": [
        "# ***access HTML TEXT***"
      ],
      "metadata": {
        "id": "vDZTB6hwjRnu"
      }
    },
    {
      "cell_type": "code",
      "source": [
        "!pip install beautifulsoup4\n",
        "from bs4 import BeautifulSoup\n",
        "import requests\n",
        "url=\"https://example.com\"\n",
        "response=requests.get(url)\n",
        "html_content=response.text\n",
        "soup=BeautifulSoup(html_content,'html.parser')\n",
        "t=soup.title.text\n",
        "print(\"Title:\",t)\n",
        "para=soup.find_all('p')\n",
        "for paragraph in para:\n",
        "  print(paragraph.text)"
      ],
      "metadata": {
        "colab": {
          "base_uri": "https://localhost:8080/"
        },
        "id": "sOKzj2-1cYfF",
        "outputId": "7bb179bf-8670-40a4-aff2-2788470d8056"
      },
      "execution_count": null,
      "outputs": [
        {
          "output_type": "stream",
          "name": "stdout",
          "text": [
            "Requirement already satisfied: beautifulsoup4 in /usr/local/lib/python3.10/dist-packages (4.11.2)\n",
            "Requirement already satisfied: soupsieve>1.2 in /usr/local/lib/python3.10/dist-packages (from beautifulsoup4) (2.5)\n",
            "Title: Example Domain\n",
            "This domain is for use in illustrative examples in documents. You may use this\n",
            "    domain in literature without prior coordination or asking for permission.\n",
            "More information...\n"
          ]
        }
      ]
    },
    {
      "cell_type": "markdown",
      "source": [
        "# ***pre-process HTML TEXT***"
      ],
      "metadata": {
        "id": "YfBWppMbjYjO"
      }
    },
    {
      "cell_type": "code",
      "source": [
        "from bs4 import BeautifulSoup\n",
        "import requests\n",
        "import re\n",
        "\n",
        "url = \"https://example.com\"\n",
        "\n",
        "response = requests.get(url)\n",
        "html_content = response.text\n",
        "\n",
        "soup = BeautifulSoup(html_content, 'html.parser')\n",
        "\n",
        "text_content = soup.get_text()\n",
        "\n",
        "text_content = re.sub(r'\\s+', ' ', text_content).strip()\n",
        "\n",
        "text_content = text_content.lower()\n",
        "\n",
        "print(\"Processed Text:\")\n",
        "print(text_content)\n"
      ],
      "metadata": {
        "colab": {
          "base_uri": "https://localhost:8080/"
        },
        "id": "8fV3HQNecYu8",
        "outputId": "e695b32c-586f-481c-be0e-fcf029867e24"
      },
      "execution_count": null,
      "outputs": [
        {
          "output_type": "stream",
          "name": "stdout",
          "text": [
            "Processed Text:\n",
            "example domain example domain this domain is for use in illustrative examples in documents. you may use this domain in literature without prior coordination or asking for permission. more information...\n"
          ]
        }
      ]
    },
    {
      "cell_type": "markdown",
      "source": [
        "# ***create feature vector for HTML texts***"
      ],
      "metadata": {
        "id": "fZISYXvgjeJD"
      }
    },
    {
      "cell_type": "code",
      "source": [
        "from bs4 import BeautifulSoup\n",
        "from sklearn.feature_extraction.text import CountVectorizer\n",
        "\n",
        "html_text = text_content\n",
        "\n",
        "def extract_text_from_html(html):\n",
        "    soup = BeautifulSoup(html, 'html.parser')\n",
        "    return soup.get_text()\n",
        "\n",
        "text = extract_text_from_html(html_text)\n",
        "\n",
        "vectorizer = CountVectorizer()\n",
        "\n",
        "feature_vector = vectorizer.fit_transform([text])\n",
        "\n",
        "feature_array = feature_vector.toarray()\n",
        "\n",
        "print(\"Feature Vector:\")\n",
        "print(feature_array)\n"
      ],
      "metadata": {
        "colab": {
          "base_uri": "https://localhost:8080/"
        },
        "id": "cGLGgI10cY29",
        "outputId": "74c5da14-2934-46ce-a192-ccae9ae9bb9f"
      },
      "execution_count": null,
      "outputs": [
        {
          "output_type": "stream",
          "name": "stdout",
          "text": [
            "Feature Vector:\n",
            "[[1 1 1 4 2 1 2 1 3 1 1 1 1 1 1 1 1 2 2 1 1]]\n"
          ]
        }
      ]
    },
    {
      "cell_type": "code",
      "source": [],
      "metadata": {
        "id": "l7al-1aScY-8"
      },
      "execution_count": null,
      "outputs": []
    },
    {
      "cell_type": "code",
      "source": [],
      "metadata": {
        "id": "ylOUZ2w4cZHe"
      },
      "execution_count": null,
      "outputs": []
    },
    {
      "cell_type": "code",
      "source": [],
      "metadata": {
        "id": "hV13FCNicZRk"
      },
      "execution_count": null,
      "outputs": []
    }
  ]
}